{
 "cells": [
  {
   "cell_type": "markdown",
   "metadata": {},
   "source": [
    "# Exploratory Analysis\n",
    "\n",
    "chrome-extension://oemmndcbldboiebfnladdacbdfmadadm/https://ec.europa.eu/eurostat/documents/3433488/5579176/KS-SF-11-034-EN.PDF/63cebff3-f7ac-4ca6-ab33-4e8792c5f30c\n",
    "\n",
    "https://appsso.eurostat.ec.europa.eu/nui/submitViewTableAction.do\n",
    "\n",
    "https://en.wikipedia.org/wiki/List_of_sovereign_states_and_dependent_territories_by_immigrant_population\n",
    "\n",
    "https://data.worldbank.org/indicator/SM.POP.TOTL.ZS?name_desc=false&view=map\n",
    "\n",
    "https://en.wikipedia.org/wiki/Demographics_of_Europe\n",
    "\n",
    "https://data.oecd.org/migration/foreign-population.htm\n",
    "\n",
    "https://www.weforum.org/agenda/2019/03/which-countries-have-the-most-immigrants-51048ff1f9/"
   ]
  },
  {
   "cell_type": "code",
   "execution_count": 1,
   "metadata": {},
   "outputs": [],
   "source": [
    "import pandas as pd\n",
    "import numpy as np\n",
    "import requests \n",
    "import json # library to handle JSON files\n",
    "from pandas.io.json import json_normalize # tranform JSON file into a pandas dataframe\n",
    "\n",
    "# Matplotlib and associated plotting modules\n",
    "import matplotlib.cm as cm\n",
    "import matplotlib.colors as colors\n",
    "import matplotlib.pyplot as plt\n",
    "\n",
    "import folium # map rendering library\n",
    "\n",
    "% matplotlib inline"
   ]
  },
  {
   "cell_type": "markdown",
   "metadata": {},
   "source": [
    "## Read and Process Restaurant Data"
   ]
  },
  {
   "cell_type": "code",
   "execution_count": 2,
   "metadata": {},
   "outputs": [],
   "source": [
    "city_list = ['Dublin','Zurich','Warsaw','Vienna','Riga','Prague','Podgorica','Athens',\n",
    "             'Porto','Barcelona','Milan','Copenhagen','Reykjavik','Lyon','Munich',\n",
    "             'Luxembourg','Oslo','Vaduz','Sofia','Amsterdam','Bucharest','London']\n",
    "\n",
    "' Read in data files into single dataframe '\n",
    "df_restaurants = pd.DataFrame()\n",
    "for city in city_list:\n",
    "    \n",
    "    ' Read in city file '\n",
    "    file_location = './Data/{}/{}_restaurants.csv'.format(city, city.lower())\n",
    "    df_city = pd.read_csv(file_location,encoding='utf-8')\n",
    "    \n",
    "    ' Append City Name to dataframe '\n",
    "    df_city['city'] = city\n",
    "    df_city = df_city[['city','lat_centre','long_centre','num_venues','venue_iter','venue_id','venue_name','lat_venue','long_venue','category']]\n",
    "    \n",
    "    'Append results to master dataframe '\n",
    "    df_restaurants = df_restaurants.append(df_city, ignore_index=True)\n",
    "    \n",
    "' Extract Cuisine Type from Category column '\n",
    "df_restaurants['cuisine'] = df_restaurants['category'].apply(lambda x:x.replace(' Restaurant','').lower())\n"
   ]
  },
  {
   "cell_type": "code",
   "execution_count": 3,
   "metadata": {},
   "outputs": [
    {
     "data": {
      "text/plain": [
       "London        6588\n",
       "Barcelona     3236\n",
       "Warsaw        1758\n",
       "Milan         1598\n",
       "Vienna        1475\n",
       "Munich        1468\n",
       "Prague        1331\n",
       "Athens        1265\n",
       "Amsterdam     1062\n",
       "Zurich        1007\n",
       "Bucharest     1001\n",
       "Copenhagen     961\n",
       "Porto          894\n",
       "Sofia          868\n",
       "Lyon           737\n",
       "Riga           680\n",
       "Dublin         628\n",
       "Oslo           432\n",
       "Luxembourg     216\n",
       "Reykjavik       90\n",
       "Podgorica       79\n",
       "Vaduz           48\n",
       "Name: city, dtype: int64"
      ]
     },
     "execution_count": 3,
     "metadata": {},
     "output_type": "execute_result"
    }
   ],
   "source": [
    "df_restaurants['city'].value_counts()"
   ]
  },
  {
   "cell_type": "markdown",
   "metadata": {},
   "source": [
    "## Construct dataframe with frequency of cuisine types in each City"
   ]
  },
  {
   "cell_type": "code",
   "execution_count": 4,
   "metadata": {},
   "outputs": [],
   "source": [
    "' Create empty dataframe '\n",
    "df_cuisine_count = pd.DataFrame()\n",
    "\n",
    "for city in city_list:\n",
    "    \n",
    "    ' Obtain cuisine counts in city '\n",
    "    df_count = df_restaurants[ df_restaurants['city'] == city ]['cuisine'].value_counts().to_frame()\n",
    "    df_count.columns = [ city.lower() ]\n",
    "    \n",
    "    ' Join to master dataframe '\n",
    "    df_cuisine_count = df_cuisine_count.join(df_count, how='outer')\n",
    "    \n",
    "' Replace empty values with zero '\n",
    "df_cuisine_count.fillna(0, inplace=True)"
   ]
  },
  {
   "cell_type": "code",
   "execution_count": 5,
   "metadata": {},
   "outputs": [
    {
     "data": {
      "text/html": [
       "<div>\n",
       "<style scoped>\n",
       "    .dataframe tbody tr th:only-of-type {\n",
       "        vertical-align: middle;\n",
       "    }\n",
       "\n",
       "    .dataframe tbody tr th {\n",
       "        vertical-align: top;\n",
       "    }\n",
       "\n",
       "    .dataframe thead th {\n",
       "        text-align: right;\n",
       "    }\n",
       "</style>\n",
       "<table border=\"1\" class=\"dataframe\">\n",
       "  <thead>\n",
       "    <tr style=\"text-align: right;\">\n",
       "      <th></th>\n",
       "      <th>dublin</th>\n",
       "      <th>zurich</th>\n",
       "      <th>warsaw</th>\n",
       "      <th>vienna</th>\n",
       "      <th>riga</th>\n",
       "      <th>prague</th>\n",
       "      <th>podgorica</th>\n",
       "      <th>athens</th>\n",
       "      <th>porto</th>\n",
       "      <th>barcelona</th>\n",
       "      <th>...</th>\n",
       "      <th>reykjavik</th>\n",
       "      <th>lyon</th>\n",
       "      <th>munich</th>\n",
       "      <th>luxembourg</th>\n",
       "      <th>oslo</th>\n",
       "      <th>vaduz</th>\n",
       "      <th>sofia</th>\n",
       "      <th>amsterdam</th>\n",
       "      <th>bucharest</th>\n",
       "      <th>london</th>\n",
       "    </tr>\n",
       "  </thead>\n",
       "  <tbody>\n",
       "    <tr>\n",
       "      <th>abruzzo</th>\n",
       "      <td>0.0</td>\n",
       "      <td>0.0</td>\n",
       "      <td>0.0</td>\n",
       "      <td>0.0</td>\n",
       "      <td>0.0</td>\n",
       "      <td>0.0</td>\n",
       "      <td>0.0</td>\n",
       "      <td>0.0</td>\n",
       "      <td>0.0</td>\n",
       "      <td>0.0</td>\n",
       "      <td>...</td>\n",
       "      <td>0.0</td>\n",
       "      <td>0.0</td>\n",
       "      <td>0.0</td>\n",
       "      <td>0.0</td>\n",
       "      <td>0.0</td>\n",
       "      <td>0.0</td>\n",
       "      <td>0.0</td>\n",
       "      <td>0.0</td>\n",
       "      <td>0.0</td>\n",
       "      <td>0.0</td>\n",
       "    </tr>\n",
       "    <tr>\n",
       "      <th>afghan</th>\n",
       "      <td>1.0</td>\n",
       "      <td>1.0</td>\n",
       "      <td>17.0</td>\n",
       "      <td>4.0</td>\n",
       "      <td>36.0</td>\n",
       "      <td>8.0</td>\n",
       "      <td>0.0</td>\n",
       "      <td>1.0</td>\n",
       "      <td>2.0</td>\n",
       "      <td>0.0</td>\n",
       "      <td>...</td>\n",
       "      <td>2.0</td>\n",
       "      <td>1.0</td>\n",
       "      <td>6.0</td>\n",
       "      <td>1.0</td>\n",
       "      <td>1.0</td>\n",
       "      <td>0.0</td>\n",
       "      <td>4.0</td>\n",
       "      <td>2.0</td>\n",
       "      <td>4.0</td>\n",
       "      <td>14.0</td>\n",
       "    </tr>\n",
       "    <tr>\n",
       "      <th>african</th>\n",
       "      <td>5.0</td>\n",
       "      <td>3.0</td>\n",
       "      <td>16.0</td>\n",
       "      <td>5.0</td>\n",
       "      <td>27.0</td>\n",
       "      <td>3.0</td>\n",
       "      <td>1.0</td>\n",
       "      <td>1.0</td>\n",
       "      <td>8.0</td>\n",
       "      <td>7.0</td>\n",
       "      <td>...</td>\n",
       "      <td>2.0</td>\n",
       "      <td>6.0</td>\n",
       "      <td>6.0</td>\n",
       "      <td>0.0</td>\n",
       "      <td>4.0</td>\n",
       "      <td>0.0</td>\n",
       "      <td>3.0</td>\n",
       "      <td>7.0</td>\n",
       "      <td>3.0</td>\n",
       "      <td>131.0</td>\n",
       "    </tr>\n",
       "    <tr>\n",
       "      <th>american</th>\n",
       "      <td>11.0</td>\n",
       "      <td>9.0</td>\n",
       "      <td>44.0</td>\n",
       "      <td>23.0</td>\n",
       "      <td>82.0</td>\n",
       "      <td>24.0</td>\n",
       "      <td>4.0</td>\n",
       "      <td>3.0</td>\n",
       "      <td>1.0</td>\n",
       "      <td>29.0</td>\n",
       "      <td>...</td>\n",
       "      <td>3.0</td>\n",
       "      <td>10.0</td>\n",
       "      <td>16.0</td>\n",
       "      <td>4.0</td>\n",
       "      <td>8.0</td>\n",
       "      <td>0.0</td>\n",
       "      <td>4.0</td>\n",
       "      <td>10.0</td>\n",
       "      <td>35.0</td>\n",
       "      <td>97.0</td>\n",
       "    </tr>\n",
       "    <tr>\n",
       "      <th>arepa</th>\n",
       "      <td>2.0</td>\n",
       "      <td>2.0</td>\n",
       "      <td>6.0</td>\n",
       "      <td>1.0</td>\n",
       "      <td>11.0</td>\n",
       "      <td>4.0</td>\n",
       "      <td>0.0</td>\n",
       "      <td>0.0</td>\n",
       "      <td>3.0</td>\n",
       "      <td>8.0</td>\n",
       "      <td>...</td>\n",
       "      <td>0.0</td>\n",
       "      <td>2.0</td>\n",
       "      <td>1.0</td>\n",
       "      <td>0.0</td>\n",
       "      <td>0.0</td>\n",
       "      <td>0.0</td>\n",
       "      <td>1.0</td>\n",
       "      <td>2.0</td>\n",
       "      <td>0.0</td>\n",
       "      <td>18.0</td>\n",
       "    </tr>\n",
       "  </tbody>\n",
       "</table>\n",
       "<p>5 rows × 22 columns</p>\n",
       "</div>"
      ],
      "text/plain": [
       "          dublin  zurich  warsaw  vienna  riga  prague  podgorica  athens  \\\n",
       "abruzzo      0.0     0.0     0.0     0.0   0.0     0.0        0.0     0.0   \n",
       "afghan       1.0     1.0    17.0     4.0  36.0     8.0        0.0     1.0   \n",
       "african      5.0     3.0    16.0     5.0  27.0     3.0        1.0     1.0   \n",
       "american    11.0     9.0    44.0    23.0  82.0    24.0        4.0     3.0   \n",
       "arepa        2.0     2.0     6.0     1.0  11.0     4.0        0.0     0.0   \n",
       "\n",
       "          porto  barcelona  ...  reykjavik  lyon  munich  luxembourg  oslo  \\\n",
       "abruzzo     0.0        0.0  ...        0.0   0.0     0.0         0.0   0.0   \n",
       "afghan      2.0        0.0  ...        2.0   1.0     6.0         1.0   1.0   \n",
       "african     8.0        7.0  ...        2.0   6.0     6.0         0.0   4.0   \n",
       "american    1.0       29.0  ...        3.0  10.0    16.0         4.0   8.0   \n",
       "arepa       3.0        8.0  ...        0.0   2.0     1.0         0.0   0.0   \n",
       "\n",
       "          vaduz  sofia  amsterdam  bucharest  london  \n",
       "abruzzo     0.0    0.0        0.0        0.0     0.0  \n",
       "afghan      0.0    4.0        2.0        4.0    14.0  \n",
       "african     0.0    3.0        7.0        3.0   131.0  \n",
       "american    0.0    4.0       10.0       35.0    97.0  \n",
       "arepa       0.0    1.0        2.0        0.0    18.0  \n",
       "\n",
       "[5 rows x 22 columns]"
      ]
     },
     "execution_count": 5,
     "metadata": {},
     "output_type": "execute_result"
    }
   ],
   "source": [
    "df_cuisine_count.head()"
   ]
  },
  {
   "cell_type": "code",
   "execution_count": null,
   "metadata": {},
   "outputs": [],
   "source": []
  },
  {
   "cell_type": "markdown",
   "metadata": {},
   "source": [
    "## Read and Process Demographic Data"
   ]
  },
  {
   "cell_type": "code",
   "execution_count": 6,
   "metadata": {},
   "outputs": [],
   "source": [
    "country_list = ['Ireland','Switzerland','Poland','Austria','Latvia','Czechia','Montenegro',\n",
    "                'Greece','Portugal','Spain','Italy','Denmark','Iceland','France','Germany',\n",
    "                'Luxembourg','Norway','Liechtenstein','Bulgaria','Netherlands','Romania','UK']\n",
    "\n",
    "\n",
    "def get_citizenship_filename(country):\n",
    "    \n",
    "    if country == 'France':\n",
    "        filename = 'France_2017.csv'\n",
    "    elif country == 'Montenegro':\n",
    "        filename = 'Montenegro_2011.csv'\n",
    "    else:\n",
    "        filename = '{}_2019.csv'.format(country)\n",
    "    \n",
    "    return('./Data/Citizenship/{}'.format(filename))\n",
    "    \n",
    "    \n",
    "' Read and process population data ' \n",
    "df_demo = pd.DataFrame()\n",
    "for country in country_list:\n",
    "    \n",
    "    file_location = get_citizenship_filename(country)\n",
    "    df_country = pd.read_csv(file_location)\n",
    "    \n",
    "    ' Transform dataframe '\n",
    "    df_country = df_country[ df_country['SEX']=='Total' ]\n",
    "    df_country = df_country[['GEO','CITIZEN','Value']]\n",
    "    df_country.rename(columns={\"GEO\": \"country\", \"CITIZEN\": \"citizenship\",\"Value\":\"count\"}, inplace=True)\n",
    "    df_country.drop(df_country.index[df_country['citizenship'] == 'Total'], inplace = True)\n",
    "    df_country['count'] = df_country['count'].str.replace(\",\", \"\").replace(\":\", \"0\")\n",
    "    df_country['count'] = df_country['count'].astype('int32')\n",
    "    country_name = df_country['country'].unique()[0].split()[0].lower()\n",
    "    df_country.drop('country', axis=1, inplace=True)\n",
    "    df_country.set_index('citizenship', inplace=True)\n",
    "    df_country.columns = [country_name]\n",
    "    \n",
    "    ' Join to master dataframe '\n",
    "    df_demo = df_country.join(df_demo)\n",
    "    \n",
    "    \n",
    "' Rename United Kingdom -> UK '\n",
    "df_demo.rename(columns={'united':'uk'},inplace=True)\n",
    "\n"
   ]
  },
  {
   "cell_type": "code",
   "execution_count": 7,
   "metadata": {},
   "outputs": [
    {
     "data": {
      "text/plain": [
       "uk               66647112\n",
       "romania          19413965\n",
       "netherlands      17225855\n",
       "bulgaria          6989979\n",
       "liechtenstein       38378\n",
       "norway            5325403\n",
       "luxembourg         613501\n",
       "germany          82819865\n",
       "france           66809816\n",
       "iceland            356942\n",
       "denmark           5797728\n",
       "italy            60358697\n",
       "spain            46692528\n",
       "portugal         10276529\n",
       "greece           10106077\n",
       "montenegro         598321\n",
       "czechia          10647546\n",
       "latvia            1714005\n",
       "austria           8842534\n",
       "poland           37714705\n",
       "switzerland       8430342\n",
       "ireland           4901396\n",
       "dtype: int64"
      ]
     },
     "execution_count": 7,
     "metadata": {},
     "output_type": "execute_result"
    }
   ],
   "source": [
    "df_demo.sum()"
   ]
  },
  {
   "cell_type": "code",
   "execution_count": 8,
   "metadata": {},
   "outputs": [
    {
     "data": {
      "text/html": [
       "<div>\n",
       "<style scoped>\n",
       "    .dataframe tbody tr th:only-of-type {\n",
       "        vertical-align: middle;\n",
       "    }\n",
       "\n",
       "    .dataframe tbody tr th {\n",
       "        vertical-align: top;\n",
       "    }\n",
       "\n",
       "    .dataframe thead th {\n",
       "        text-align: right;\n",
       "    }\n",
       "</style>\n",
       "<table border=\"1\" class=\"dataframe\">\n",
       "  <thead>\n",
       "    <tr style=\"text-align: right;\">\n",
       "      <th></th>\n",
       "      <th>uk</th>\n",
       "      <th>romania</th>\n",
       "      <th>netherlands</th>\n",
       "      <th>bulgaria</th>\n",
       "      <th>liechtenstein</th>\n",
       "      <th>norway</th>\n",
       "      <th>luxembourg</th>\n",
       "      <th>germany</th>\n",
       "      <th>france</th>\n",
       "      <th>iceland</th>\n",
       "      <th>...</th>\n",
       "      <th>spain</th>\n",
       "      <th>portugal</th>\n",
       "      <th>greece</th>\n",
       "      <th>montenegro</th>\n",
       "      <th>czechia</th>\n",
       "      <th>latvia</th>\n",
       "      <th>austria</th>\n",
       "      <th>poland</th>\n",
       "      <th>switzerland</th>\n",
       "      <th>ireland</th>\n",
       "    </tr>\n",
       "    <tr>\n",
       "      <th>citizenship</th>\n",
       "      <th></th>\n",
       "      <th></th>\n",
       "      <th></th>\n",
       "      <th></th>\n",
       "      <th></th>\n",
       "      <th></th>\n",
       "      <th></th>\n",
       "      <th></th>\n",
       "      <th></th>\n",
       "      <th></th>\n",
       "      <th></th>\n",
       "      <th></th>\n",
       "      <th></th>\n",
       "      <th></th>\n",
       "      <th></th>\n",
       "      <th></th>\n",
       "      <th></th>\n",
       "      <th></th>\n",
       "      <th></th>\n",
       "      <th></th>\n",
       "      <th></th>\n",
       "    </tr>\n",
       "  </thead>\n",
       "  <tbody>\n",
       "    <tr>\n",
       "      <th>Belgium</th>\n",
       "      <td>23135</td>\n",
       "      <td>985</td>\n",
       "      <td>34447</td>\n",
       "      <td>209</td>\n",
       "      <td>25</td>\n",
       "      <td>1284</td>\n",
       "      <td>19953</td>\n",
       "      <td>25904</td>\n",
       "      <td>102066</td>\n",
       "      <td>104</td>\n",
       "      <td>...</td>\n",
       "      <td>36980</td>\n",
       "      <td>4147</td>\n",
       "      <td>1279</td>\n",
       "      <td>1</td>\n",
       "      <td>809</td>\n",
       "      <td>37</td>\n",
       "      <td>2575</td>\n",
       "      <td>660</td>\n",
       "      <td>13474</td>\n",
       "      <td>1674</td>\n",
       "    </tr>\n",
       "    <tr>\n",
       "      <th>Bulgaria</th>\n",
       "      <td>102345</td>\n",
       "      <td>2814</td>\n",
       "      <td>31208</td>\n",
       "      <td>6896086</td>\n",
       "      <td>11</td>\n",
       "      <td>7349</td>\n",
       "      <td>1726</td>\n",
       "      <td>319271</td>\n",
       "      <td>23188</td>\n",
       "      <td>414</td>\n",
       "      <td>...</td>\n",
       "      <td>123335</td>\n",
       "      <td>6931</td>\n",
       "      <td>81174</td>\n",
       "      <td>32</td>\n",
       "      <td>15632</td>\n",
       "      <td>115</td>\n",
       "      <td>29920</td>\n",
       "      <td>2327</td>\n",
       "      <td>10054</td>\n",
       "      <td>2592</td>\n",
       "    </tr>\n",
       "    <tr>\n",
       "      <th>Czechia</th>\n",
       "      <td>46573</td>\n",
       "      <td>543</td>\n",
       "      <td>4144</td>\n",
       "      <td>416</td>\n",
       "      <td>22</td>\n",
       "      <td>1898</td>\n",
       "      <td>1130</td>\n",
       "      <td>56259</td>\n",
       "      <td>4628</td>\n",
       "      <td>692</td>\n",
       "      <td>...</td>\n",
       "      <td>0</td>\n",
       "      <td>463</td>\n",
       "      <td>913</td>\n",
       "      <td>23</td>\n",
       "      <td>10092342</td>\n",
       "      <td>34</td>\n",
       "      <td>13590</td>\n",
       "      <td>1123</td>\n",
       "      <td>8407</td>\n",
       "      <td>5302</td>\n",
       "    </tr>\n",
       "  </tbody>\n",
       "</table>\n",
       "<p>3 rows × 22 columns</p>\n",
       "</div>"
      ],
      "text/plain": [
       "                 uk  romania  netherlands  bulgaria  liechtenstein  norway  \\\n",
       "citizenship                                                                  \n",
       "Belgium       23135      985        34447       209             25    1284   \n",
       "Bulgaria     102345     2814        31208   6896086             11    7349   \n",
       "Czechia       46573      543         4144       416             22    1898   \n",
       "\n",
       "             luxembourg  germany  france  iceland  ...   spain  portugal  \\\n",
       "citizenship                                        ...                     \n",
       "Belgium           19953    25904  102066      104  ...   36980      4147   \n",
       "Bulgaria           1726   319271   23188      414  ...  123335      6931   \n",
       "Czechia            1130    56259    4628      692  ...       0       463   \n",
       "\n",
       "             greece  montenegro   czechia  latvia  austria  poland  \\\n",
       "citizenship                                                          \n",
       "Belgium        1279           1       809      37     2575     660   \n",
       "Bulgaria      81174          32     15632     115    29920    2327   \n",
       "Czechia         913          23  10092342      34    13590    1123   \n",
       "\n",
       "             switzerland  ireland  \n",
       "citizenship                        \n",
       "Belgium            13474     1674  \n",
       "Bulgaria           10054     2592  \n",
       "Czechia             8407     5302  \n",
       "\n",
       "[3 rows x 22 columns]"
      ]
     },
     "execution_count": 8,
     "metadata": {},
     "output_type": "execute_result"
    }
   ],
   "source": [
    "df_demo.head(3)"
   ]
  },
  {
   "cell_type": "code",
   "execution_count": null,
   "metadata": {},
   "outputs": [],
   "source": []
  },
  {
   "cell_type": "markdown",
   "metadata": {},
   "source": [
    "## Calculate diversity indices for Population and Cuisines"
   ]
  },
  {
   "cell_type": "code",
   "execution_count": 9,
   "metadata": {},
   "outputs": [],
   "source": [
    "def get_entropy(p):\n",
    "    \"\"\" Takes in pandas series and returns the Shannon entropy \"\"\"\n",
    "    \n",
    "    ' Calculate Shannon entropy '\n",
    "    entropy = ( -1.0*p*np.log(p) ).sum()\n",
    "    \n",
    "    return entropy\n",
    "\n",
    "\n",
    "def get_renyi_entropy(p,q):\n",
    "    \n",
    "    ' Calculate entropy '\n",
    "    if q == 1:\n",
    "        entropy = ( -1.0*p*np.log(p) ).sum()\n",
    "    else:\n",
    "        entropy = -1.0*( 1.0/float(q-1) )*np.log( (p**q).sum() )\n",
    "    \n",
    "    return entropy\n",
    "\n",
    "\n",
    "def get_frequency(values, exclude_zeros=True):\n",
    "    \"\"\" Takes in a pandas Series and returns normalised values \"\"\"\n",
    "    \n",
    "    total = float( values.sum() )\n",
    "    \n",
    "    freq = values/float(total)\n",
    "    \n",
    "    if exclude_zeros == True:\n",
    "        freq = freq[ freq>0 ]\n",
    "    \n",
    "    return freq"
   ]
  },
  {
   "cell_type": "code",
   "execution_count": 10,
   "metadata": {},
   "outputs": [],
   "source": [
    "pop_entropy = []\n",
    "\n",
    "for country in country_list:\n",
    "    \n",
    "    sCounts = df_demo[ country.lower() ]\n",
    "    \n",
    "    sFrequency = get_frequency(sCounts)\n",
    "    \n",
    "    pop_entropy.append( get_entropy(sFrequency) )\n",
    "\n",
    "\n",
    "cuisine_entropy = []\n",
    "\n",
    "for city in city_list:\n",
    "    \n",
    "    sCounts = df_cuisine_count[ city.lower() ]\n",
    "    \n",
    "    sFrequency = get_frequency(sCounts)\n",
    "    \n",
    "    cuisine_entropy.append( get_entropy(sFrequency) )\n",
    "\n"
   ]
  },
  {
   "cell_type": "markdown",
   "metadata": {},
   "source": [
    "## Cuisine and Population Diversity \n",
    "\n",
    "As a crude measure of diversity, we could simply count the number of distinct categories in our distribution e.g. The number of distinct cuisine types found in a city, or the number of different nationalities. This measure of diversity is known as *richness*.\n",
    "\n",
    "We thus begin by calculating the richness in cuisines of each city. Similarly we calculate the richness in the nationalities for each country. Note that a regression line is fitted."
   ]
  },
  {
   "cell_type": "code",
   "execution_count": 11,
   "metadata": {},
   "outputs": [],
   "source": [
    "nation_count = []\n",
    "\n",
    "for country in country_list:\n",
    "    \n",
    "    sCounts = df_demo[ country.lower() ]\n",
    "    \n",
    "    country_name = country[0].upper() + country[1:]\n",
    "    \n",
    "    if country_name == 'Germany':\n",
    "        country_name = 'Germany (until 1990 former territory of the FRG)'\n",
    "    \n",
    "    sCounts = sCounts[ sCounts.index != country_name ]\n",
    "    \n",
    "    num_nations = sCounts[sCounts>0].count()\n",
    "    \n",
    "    nation_count.append( num_nations )\n",
    "    \n",
    "    \n",
    "cuisine_count = []\n",
    "\n",
    "for city in city_list:\n",
    "    \n",
    "    num_cuisines = sum(df_cuisine_count[ city.lower() ] > 0)\n",
    "    \n",
    "    cuisine_count.append( num_cuisines )"
   ]
  },
  {
   "cell_type": "code",
   "execution_count": 47,
   "metadata": {},
   "outputs": [
    {
     "name": "stdout",
     "output_type": "stream",
     "text": [
      "p-value = 0.474\n",
      "                            OLS Regression Results                            \n",
      "==============================================================================\n",
      "Dep. Variable:                      y   R-squared:                       0.026\n",
      "Model:                            OLS   Adj. R-squared:                 -0.023\n",
      "Method:                 Least Squares   F-statistic:                    0.5314\n",
      "Date:                Tue, 15 Dec 2020   Prob (F-statistic):              0.474\n",
      "Time:                        20:22:08   Log-Likelihood:                -96.560\n",
      "No. Observations:                  22   AIC:                             197.1\n",
      "Df Residuals:                      20   BIC:                             199.3\n",
      "Df Model:                           1                                         \n",
      "Covariance Type:            nonrobust                                         \n",
      "==============================================================================\n",
      "                 coef    std err          t      P>|t|      [0.025      0.975]\n",
      "------------------------------------------------------------------------------\n",
      "const         61.8518     10.304      6.003      0.000      40.357      83.346\n",
      "x1            -0.0497      0.068     -0.729      0.474      -0.192       0.093\n",
      "==============================================================================\n",
      "Omnibus:                        1.538   Durbin-Watson:                   1.563\n",
      "Prob(Omnibus):                  0.463   Jarque-Bera (JB):                0.724\n",
      "Skew:                          -0.440   Prob(JB):                        0.696\n",
      "Kurtosis:                       3.122   Cond. No.                         357.\n",
      "==============================================================================\n",
      "\n",
      "Warnings:\n",
      "[1] Standard Errors assume that the covariance matrix of the errors is correctly specified.\n"
     ]
    },
    {
     "data": {
      "image/png": "[encoded data removed]",
      "text/plain": [
       "<Figure size 604.8x432 with 1 Axes>"
      ]
     },
     "metadata": {},
     "output_type": "display_data"
    }
   ],
   "source": [
    "import statsmodels.api as sm\n",
    "import seaborn as sns\n",
    "\n",
    "X = nation_count\n",
    "X = sm.add_constant(X)\n",
    "y = cuisine_count\n",
    "\n",
    "model = sm.OLS(y, X).fit() ## sm.OLS(output, input)\n",
    "X_pred = np.array( [(1,0),(1,200)] )\n",
    "y_pred = model.predict(X_pred)\n",
    "print(\"p-value = {:.3f}\".format(model.pvalues[1]))\n",
    "print(model.summary())\n",
    "\n",
    "#plt.plot(nation_count, cuisine_count, 'bo', X_pred, y_pred, 'r-');\n",
    "#plt.xlabel('Population Richness');\n",
    "#plt.ylabel('Cuisine Richness');\n",
    "#plt.title('Cuisine vs Population Richness');\n",
    "\n",
    "sns.set(font_scale=2)\n",
    "sns.set_style(\"whitegrid\")\n",
    "X = nation_count\n",
    "y = cuisine_count\n",
    "df = pd.DataFrame({'X':X,'y':y})\n",
    "g = sns.lmplot(x='X', y='y', data=df, height=6, aspect=1.4, \n",
    "               scatter_kws={\"s\": 100,\"color\": \"red\"}, line_kws={\"color\": \"blue\"});\n",
    "plt.title(\"Cuisine vs Population Richness\");\n",
    "plt.xlabel(\"$R_n$\");\n",
    "plt.ylabel(\"$R_c$\");\n",
    "g.savefig(\"RichnessRegressionPlot.png\")"
   ]
  },
  {
   "cell_type": "code",
   "execution_count": null,
   "metadata": {},
   "outputs": [],
   "source": []
  },
  {
   "cell_type": "code",
   "execution_count": null,
   "metadata": {},
   "outputs": [],
   "source": []
  },
  {
   "cell_type": "markdown",
   "metadata": {},
   "source": [
    "We can see that there is no evidence of any correlation between the variety in available cuisines and the diversity in the immigrant population.\n",
    "\n",
    "We can use more sophisticated measures of diversity than richness. Below we use the Shannon entropy as a measure of diversity."
   ]
  },
  {
   "cell_type": "code",
   "execution_count": 48,
   "metadata": {},
   "outputs": [
    {
     "name": "stdout",
     "output_type": "stream",
     "text": [
      "p-value = 0.773\n",
      "                            OLS Regression Results                            \n",
      "==============================================================================\n",
      "Dep. Variable:                      y   R-squared:                       0.004\n",
      "Model:                            OLS   Adj. R-squared:                 -0.046\n",
      "Method:                 Least Squares   F-statistic:                   0.08553\n",
      "Date:                Tue, 15 Dec 2020   Prob (F-statistic):              0.773\n",
      "Time:                        20:42:11   Log-Likelihood:                -11.442\n",
      "No. Observations:                  22   AIC:                             26.88\n",
      "Df Residuals:                      20   BIC:                             29.07\n",
      "Df Model:                           1                                         \n",
      "Covariance Type:            nonrobust                                         \n",
      "==============================================================================\n",
      "                 coef    std err          t      P>|t|      [0.025      0.975]\n",
      "------------------------------------------------------------------------------\n",
      "const          2.7523      0.144     19.124      0.000       2.452       3.052\n",
      "x1            -0.0538      0.184     -0.292      0.773      -0.437       0.330\n",
      "==============================================================================\n",
      "Omnibus:                        3.515   Durbin-Watson:                   1.166\n",
      "Prob(Omnibus):                  0.172   Jarque-Bera (JB):                2.204\n",
      "Skew:                          -0.769   Prob(JB):                        0.332\n",
      "Kurtosis:                       3.193   Cond. No.                         2.91\n",
      "==============================================================================\n",
      "\n",
      "Warnings:\n",
      "[1] Standard Errors assume that the covariance matrix of the errors is correctly specified.\n"
     ]
    },
    {
     "data": {
      "image/png": "[encoded data removed]",
      "text/plain": [
       "<Figure size 604.8x432 with 1 Axes>"
      ]
     },
     "metadata": {},
     "output_type": "display_data"
    }
   ],
   "source": [
    "X = pop_entropy\n",
    "X = sm.add_constant(X)\n",
    "y = cuisine_entropy\n",
    "\n",
    "model = sm.OLS(y, X).fit() \n",
    "X_pred = np.array( [(1,0),(1,2)] )\n",
    "y_pred = model.predict(X_pred)\n",
    "print(\"p-value = {:.3f}\".format(model.pvalues[1]))\n",
    "print(model.summary())\n",
    "#plt.plot(pop_entropy, cuisine_entropy, 'bo', X_pred, y_pred, 'r-');\n",
    "#plt.xlabel('Population Diversity');\n",
    "#plt.ylabel('Cuisine Diversity');\n",
    "#plt.title('Cuisine vs Population (Entropy) Diversity');\n",
    "\n",
    "sns.set(font_scale=2)\n",
    "sns.set_style(\"whitegrid\")\n",
    "X = pop_entropy\n",
    "y = cuisine_entropy\n",
    "df = pd.DataFrame({'X':X,'y':y})\n",
    "g = sns.lmplot(x='X', y='y', data=df, height=6, aspect=1.4, \n",
    "               scatter_kws={\"s\": 100,\"color\": \"red\"}, line_kws={\"color\": \"blue\"});\n",
    "plt.title(\"Cuisine vs Population Diversity Index\");\n",
    "plt.xlabel(\"$E_n$\");\n",
    "plt.ylabel(\"$E_c$\");\n",
    "g.savefig(\"DiversityRegressionPlot.png\")"
   ]
  },
  {
   "cell_type": "markdown",
   "metadata": {},
   "source": [
    "Again, we see no evidence of any correlation.\n",
    "\n",
    "As an aside, one might also use the percentage of the population who are migrants as a simple measure of diversity in a population. Below we calculate this percentage for each country from the population statistics. We can see that this migrant percentage is in fact very strongly correlated to the Shannon entropy. That is, the population shannon entropy and the migrant percentage are effectively equivalent."
   ]
  },
  {
   "cell_type": "code",
   "execution_count": 37,
   "metadata": {},
   "outputs": [
    {
     "data": {
      "image/png": "[encoded data removed]",
      "text/plain": [
       "<Figure size 432x288 with 2 Axes>"
      ]
     },
     "metadata": {
      "needs_background": "light"
     },
     "output_type": "display_data"
    }
   ],
   "source": [
    "percent_migrants = []\n",
    "\n",
    "for country in country_list:\n",
    "    \n",
    "    sCounts = df_demo[ country.lower() ]\n",
    "    \n",
    "    pop_total = sCounts.sum()\n",
    "    \n",
    "    country_name = country[0].upper() + country[1:]\n",
    "    \n",
    "    if country_name == 'Germany':\n",
    "        country_name = 'Germany (until 1990 former territory of the FRG)'\n",
    "    elif country_name == 'UK':\n",
    "        country_name = 'United Kingdom'\n",
    "    \n",
    "    native_count = sCounts[ country_name ]\n",
    "    \n",
    "    percent_migrants.append( 100*(pop_total-native_count)/float(pop_total) )\n",
    "    \n",
    "\n",
    "plt.subplot(2,1,1)\n",
    "plt.plot(percent_migrants, pop_entropy, 'bo');\n",
    "plt.xlabel('% Migrants');\n",
    "plt.ylabel('Population Diversity');\n",
    "plt.title('Population Diversity vs % Migrants');\n",
    "\n",
    "plt.subplot(2,1,2)\n",
    "plt.plot(percent_migrants, cuisine_entropy, 'ro');\n",
    "plt.xlabel('% Migrants');\n",
    "plt.ylabel('Cuisine Diversity');\n",
    "plt.title('Cuisine Diversity vs % Migrants');\n",
    "plt.tight_layout()"
   ]
  },
  {
   "cell_type": "markdown",
   "metadata": {},
   "source": [
    "The richness and shannon entropy are just two measures of diversity. There are howver many more measures one could use. In fact the richness and shannon entropy are special cases of the more generalised class of Renyi Entropies [?] Though not shown here, this more general class of diversity measures were also calculated.\n",
    "\n",
    "However, as we found above, no evidence was found that diversity in population and diversity in cuisine are related."
   ]
  },
  {
   "cell_type": "code",
   "execution_count": null,
   "metadata": {},
   "outputs": [],
   "source": []
  },
  {
   "cell_type": "code",
   "execution_count": null,
   "metadata": {},
   "outputs": [],
   "source": []
  },
  {
   "cell_type": "code",
   "execution_count": null,
   "metadata": {},
   "outputs": [],
   "source": []
  },
  {
   "cell_type": "code",
   "execution_count": null,
   "metadata": {},
   "outputs": [],
   "source": []
  },
  {
   "cell_type": "code",
   "execution_count": null,
   "metadata": {},
   "outputs": [],
   "source": []
  },
  {
   "cell_type": "code",
   "execution_count": null,
   "metadata": {},
   "outputs": [],
   "source": []
  },
  {
   "cell_type": "code",
   "execution_count": null,
   "metadata": {},
   "outputs": [],
   "source": []
  },
  {
   "cell_type": "code",
   "execution_count": null,
   "metadata": {},
   "outputs": [],
   "source": []
  },
  {
   "cell_type": "code",
   "execution_count": null,
   "metadata": {},
   "outputs": [],
   "source": []
  },
  {
   "cell_type": "code",
   "execution_count": 28,
   "metadata": {},
   "outputs": [],
   "source": [
    "population = []\n",
    "\n",
    "for country in country_list:\n",
    "    \n",
    "    population.append( df_demo[ country.lower() ].sum() )"
   ]
  },
  {
   "cell_type": "code",
   "execution_count": 33,
   "metadata": {},
   "outputs": [
    {
     "data": {
      "text/plain": [
       "Text(0.5,1,'Cuisine Diversity vs Population')"
      ]
     },
     "execution_count": 33,
     "metadata": {},
     "output_type": "execute_result"
    },
    {
     "data": {
      "image/png": "[encoded data removed]",
      "text/plain": [
       "<Figure size 432x288 with 1 Axes>"
      ]
     },
     "metadata": {
      "needs_background": "light"
     },
     "output_type": "display_data"
    }
   ],
   "source": [
    "plt.plot(population, cuisine_entropy, 'bo');\n",
    "plt.xlabel('Population');\n",
    "plt.ylabel('Cuisine Diversity');\n",
    "plt.title('Cuisine Diversity vs Population')"
   ]
  },
  {
   "cell_type": "code",
   "execution_count": 34,
   "metadata": {},
   "outputs": [
    {
     "data": {
      "text/plain": [
       "Text(0.5,1,'Population Diversity vs Population')"
      ]
     },
     "execution_count": 34,
     "metadata": {},
     "output_type": "execute_result"
    },
    {
     "data": {
      "image/png": "[encoded data removed]",
      "text/plain": [
       "<Figure size 432x288 with 1 Axes>"
      ]
     },
     "metadata": {
      "needs_background": "light"
     },
     "output_type": "display_data"
    }
   ],
   "source": [
    "plt.plot(population, pop_entropy, 'bo');\n",
    "plt.xlabel('Population');\n",
    "plt.ylabel('Population Diversity');\n",
    "plt.title('Population Diversity vs Population')"
   ]
  },
  {
   "cell_type": "code",
   "execution_count": 52,
   "metadata": {},
   "outputs": [],
   "source": [
    "percent_migrants = []\n",
    "\n",
    "for country in country_list:\n",
    "    \n",
    "    sCounts = df_demo[ country.lower() ]\n",
    "    \n",
    "    pop_total = sCounts.sum()\n",
    "    \n",
    "    country_name = country[0].upper() + country[1:]\n",
    "    \n",
    "    if country_name == 'Germany':\n",
    "        country_name = 'Germany (until 1990 former territory of the FRG)'\n",
    "    \n",
    "    native_count = sCounts[ country_name ]\n",
    "    \n",
    "    percent_migrants.append( 100*(pop_total-native_count)/float(pop_total) )"
   ]
  },
  {
   "cell_type": "code",
   "execution_count": 54,
   "metadata": {},
   "outputs": [
    {
     "data": {
      "text/plain": [
       "Text(0.5,1,'Population Diversity vs % Migrants')"
      ]
     },
     "execution_count": 54,
     "metadata": {},
     "output_type": "execute_result"
    },
    {
     "data": {
      "image/png": "[encoded data removed]",
      "text/plain": [
       "<Figure size 432x288 with 1 Axes>"
      ]
     },
     "metadata": {
      "needs_background": "light"
     },
     "output_type": "display_data"
    }
   ],
   "source": [
    "plt.plot(percent_migrants, pop_entropy, 'bo');\n",
    "plt.xlabel('% Migrants');\n",
    "plt.ylabel('Population Diversity');\n",
    "plt.title('Population Diversity vs % Migrants')"
   ]
  },
  {
   "cell_type": "code",
   "execution_count": 70,
   "metadata": {},
   "outputs": [],
   "source": [
    "pop1_entropy = []\n",
    "nation_count = []\n",
    "\n",
    "for country in country_list:\n",
    "    \n",
    "    sCounts = df_demo[ country.lower() ]\n",
    "    \n",
    "    country_name = country[0].upper() + country[1:]\n",
    "    \n",
    "    if country_name == 'Germany':\n",
    "        country_name = 'Germany (until 1990 former territory of the FRG)'\n",
    "    \n",
    "    sCounts = sCounts[ sCounts.index != country_name ]\n",
    "    \n",
    "    num_nations = sCounts[sCounts>0].count()\n",
    "    \n",
    "    sFrequency = get_frequency(sCounts)\n",
    "    \n",
    "    pop1_entropy.append( get_entropy(sFrequency) )\n",
    "    \n",
    "    nation_count.append( num_nations )"
   ]
  },
  {
   "cell_type": "code",
   "execution_count": 71,
   "metadata": {},
   "outputs": [
    {
     "data": {
      "text/plain": [
       "Text(0.5,1,'Population1 Diversity vs % Migrants')"
      ]
     },
     "execution_count": 71,
     "metadata": {},
     "output_type": "execute_result"
    },
    {
     "data": {
      "image/png": "[encoded data removed]",
      "text/plain": [
       "<Figure size 432x288 with 1 Axes>"
      ]
     },
     "metadata": {
      "needs_background": "light"
     },
     "output_type": "display_data"
    }
   ],
   "source": [
    "plt.plot(percent_migrants, pop1_entropy, 'bo');\n",
    "plt.xlabel('% Migrants');\n",
    "plt.ylabel('Population1 Diversity');\n",
    "plt.title('Population1 Diversity vs % Migrants')"
   ]
  },
  {
   "cell_type": "code",
   "execution_count": 78,
   "metadata": {},
   "outputs": [
    {
     "data": {
      "text/plain": [
       "Text(0.5,1,'Population1 Diversity vs Num Nations')"
      ]
     },
     "execution_count": 78,
     "metadata": {},
     "output_type": "execute_result"
    },
    {
     "data": {
      "image/png": "[encoded data removed]",
      "text/plain": [
       "<Figure size 432x288 with 1 Axes>"
      ]
     },
     "metadata": {
      "needs_background": "light"
     },
     "output_type": "display_data"
    }
   ],
   "source": [
    "plt.plot(nation_count, pop1_entropy, 'bo');\n",
    "plt.xlabel('Number of nations');\n",
    "plt.ylabel('Population1 Diversity');\n",
    "plt.title('Population1 Diversity vs Num Nations')"
   ]
  },
  {
   "cell_type": "code",
   "execution_count": 94,
   "metadata": {},
   "outputs": [
    {
     "data": {
      "image/png": "[encoded data removed]",
      "text/plain": [
       "<Figure size 432x288 with 2 Axes>"
      ]
     },
     "metadata": {
      "needs_background": "light"
     },
     "output_type": "display_data"
    }
   ],
   "source": [
    "plt.subplot(2,1,1)\n",
    "plt.plot(pop_entropy, cuisine_entropy, 'bo');\n",
    "plt.xlabel('Population Diversity');\n",
    "plt.ylabel('Cuisine Diversity');\n",
    "\n",
    "plt.subplot(2,1,2)\n",
    "plt.plot(percent_migrants, cuisine_entropy, 'ro');\n",
    "plt.xlabel('% Migrants');\n",
    "plt.ylabel('Cuisine Diversity');\n",
    "\n",
    "plt.tight_layout()"
   ]
  },
  {
   "cell_type": "code",
   "execution_count": 80,
   "metadata": {},
   "outputs": [
    {
     "data": {
      "image/png": "[encoded data removed]",
      "text/plain": [
       "<Figure size 432x288 with 1 Axes>"
      ]
     },
     "metadata": {
      "needs_background": "light"
     },
     "output_type": "display_data"
    }
   ],
   "source": [
    "plt.plot(pop1_entropy, cuisine_entropy, 'bo');\n",
    "plt.xlabel('Population1 Diversity');\n",
    "plt.ylabel('Cuisine Diversity');\n",
    "plt.title('Cuisine vs Population1 Diversity');"
   ]
  },
  {
   "cell_type": "code",
   "execution_count": 85,
   "metadata": {},
   "outputs": [
    {
     "data": {
      "image/png": "[encoded data removed]",
      "text/plain": [
       "<Figure size 432x288 with 1 Axes>"
      ]
     },
     "metadata": {
      "needs_background": "light"
     },
     "output_type": "display_data"
    }
   ],
   "source": [
    "plt.plot(nation_count, cuisine_entropy, 'bo');\n",
    "plt.xlabel('Nation Count');\n",
    "plt.ylabel('Cuisine Diversity');\n",
    "plt.title('Cuisine Diversity vs Nation Count');"
   ]
  },
  {
   "cell_type": "markdown",
   "metadata": {},
   "source": [
    "## Renyi Entropy"
   ]
  },
  {
   "cell_type": "code",
   "execution_count": 137,
   "metadata": {},
   "outputs": [],
   "source": [
    "pop_q_entropy = []\n",
    "\n",
    "for country in country_list:\n",
    "    \n",
    "    sCounts = df_demo[ country.lower() ]\n",
    "    \n",
    "    sFrequency = get_frequency(sCounts)\n",
    "    \n",
    "    pop_q_entropy.append( get_renyi_entropy(sFrequency,-1.0) )\n",
    "\n",
    "\n",
    "cuisine_q_entropy = []\n",
    "\n",
    "for city in city_list:\n",
    "    \n",
    "    sCounts = df_cuisine_count[ city.lower() ]\n",
    "    \n",
    "    sFrequency = get_frequency(sCounts)\n",
    "    \n",
    "    cuisine_q_entropy.append( get_renyi_entropy(sFrequency,1) )\n",
    "\n"
   ]
  },
  {
   "cell_type": "code",
   "execution_count": 138,
   "metadata": {},
   "outputs": [
    {
     "data": {
      "image/png": "[encoded data removed]",
      "text/plain": [
       "<Figure size 432x288 with 1 Axes>"
      ]
     },
     "metadata": {
      "needs_background": "light"
     },
     "output_type": "display_data"
    }
   ],
   "source": [
    "plt.plot(pop_q_entropy, cuisine_entropy, 'bo');"
   ]
  },
  {
   "cell_type": "code",
   "execution_count": null,
   "metadata": {},
   "outputs": [],
   "source": []
  },
  {
   "cell_type": "code",
   "execution_count": null,
   "metadata": {},
   "outputs": [],
   "source": []
  },
  {
   "cell_type": "code",
   "execution_count": null,
   "metadata": {},
   "outputs": [],
   "source": []
  },
  {
   "cell_type": "code",
   "execution_count": null,
   "metadata": {},
   "outputs": [],
   "source": []
  },
  {
   "cell_type": "code",
   "execution_count": null,
   "metadata": {},
   "outputs": [],
   "source": []
  },
  {
   "cell_type": "code",
   "execution_count": 46,
   "metadata": {},
   "outputs": [
    {
     "data": {
      "image/png": "[encoded data removed]",
      "text/plain": [
       "<Figure size 432x288 with 1 Axes>"
      ]
     },
     "metadata": {
      "needs_background": "light"
     },
     "output_type": "display_data"
    }
   ],
   "source": [
    "df_cuisine_count['vienna'].sort_values()[-20:].plot.barh();"
   ]
  },
  {
   "cell_type": "code",
   "execution_count": 13,
   "metadata": {},
   "outputs": [
    {
     "data": {
      "text/plain": [
       "0.9794205230326298"
      ]
     },
     "execution_count": 13,
     "metadata": {},
     "output_type": "execute_result"
    },
    {
     "data": {
      "image/png": "[encoded data removed]",
      "text/plain": [
       "<Figure size 432x288 with 1 Axes>"
      ]
     },
     "metadata": {
      "needs_background": "light"
     },
     "output_type": "display_data"
    }
   ],
   "source": [
    "country = 'austria'\n",
    "\n",
    "df_demo[country].sort_values()[-20:].plot.barh();\n",
    "\n",
    "sCounts = df_demo[ country.lower() ]\n",
    "    \n",
    "sFrequency = get_frequency(sCounts)\n",
    "    \n",
    "get_entropy(sFrequency)"
   ]
  },
  {
   "cell_type": "code",
   "execution_count": 27,
   "metadata": {},
   "outputs": [
    {
     "data": {
      "text/plain": [
       "3.3456024237298214"
      ]
     },
     "execution_count": 27,
     "metadata": {},
     "output_type": "execute_result"
    }
   ],
   "source": [
    "tmp = sCounts[sCounts.index!='Austria']\n",
    "\n",
    "sFrequency = get_frequency(tmp)\n",
    "    \n",
    "get_entropy(sFrequency)"
   ]
  },
  {
   "cell_type": "code",
   "execution_count": null,
   "metadata": {},
   "outputs": [],
   "source": []
  },
  {
   "cell_type": "code",
   "execution_count": null,
   "metadata": {},
   "outputs": [],
   "source": []
  },
  {
   "cell_type": "code",
   "execution_count": null,
   "metadata": {},
   "outputs": [],
   "source": []
  },
  {
   "cell_type": "code",
   "execution_count": null,
   "metadata": {},
   "outputs": [],
   "source": []
  },
  {
   "cell_type": "code",
   "execution_count": null,
   "metadata": {},
   "outputs": [],
   "source": []
  },
  {
   "cell_type": "markdown",
   "metadata": {},
   "source": [
    "## Entropy: A measure of diversity\n",
    "\n",
    "We may use the standard definition (aka Shannon entropy) or the more general Renyi entropy. Both are often used in ecology and statistics as a measure of diversity (). The most basic measure of diversity is simply the number of differemt categories which is known as the richness $R$.\n",
    "\n",
    "Note that if we have perfect diversity so that all types are equally probable, then the entropy has a max value of\n",
    "\n",
    "$ E_{max} = ln R $\n",
    "\n",
    "**Renyi Entropy**\n",
    "\n",
    "$ E(q) = {-1 \\over q-1} \\ln \\sum_{i=1}^{R} p_i^q$\n",
    "\n",
    "Note that $q=1$ corresponds to Shannon entropy.\n",
    "\n",
    "Other measures of diversity exist such as the Simpson index, the Gini-Simpson index and Berger-Perker index."
   ]
  },
  {
   "cell_type": "code",
   "execution_count": 92,
   "metadata": {},
   "outputs": [],
   "source": [
    "def get_entropy(p):\n",
    "    \"\"\" Calculate total entropy \"\"\"\n",
    "    entropy = ( -1.0*p*np.log(p) ).sum()\n",
    "    \n",
    "    return entropy\n",
    "\n",
    "def get_renyi_entropy(p,q):\n",
    "    \"\"\" Calculate total entropy \"\"\"\n",
    "    entropy = -1.0*( 1.0/float(q-1) )*np.log( (p**q).sum() )\n",
    "    \n",
    "    return entropy\n",
    "    "
   ]
  },
  {
   "cell_type": "code",
   "execution_count": 125,
   "metadata": {},
   "outputs": [
    {
     "name": "stdout",
     "output_type": "stream",
     "text": [
      "DUBLIN\n",
      "Renyi q=-2 Entropy = 5.25576068123\n",
      "Shannon Entropy = 2.65463158725\n",
      "Renyi q=2 Entropy = 2.11790145867\n"
     ]
    }
   ],
   "source": [
    "print(\"DUBLIN\")\n",
    "print(\"Renyi q=-2 Entropy = {}\".format(get_renyi_entropy(df_dublin['freq'],-2)))\n",
    "print(\"Shannon Entropy = {}\".format(get_entropy(df_dublin['freq'])))\n",
    "print(\"Renyi q=2 Entropy = {}\".format(get_renyi_entropy(df_dublin['freq'],2)))"
   ]
  },
  {
   "cell_type": "code",
   "execution_count": 126,
   "metadata": {},
   "outputs": [
    {
     "name": "stdout",
     "output_type": "stream",
     "text": [
      "Zurich\n",
      "Renyi q=-2 Entropy = 5.61668682019\n",
      "Shannon Entropy = 2.68933208414\n",
      "Renyi q=2 Entropy = 2.00011374165\n"
     ]
    }
   ],
   "source": [
    "print(\"ZURICH\")\n",
    "print(\"Renyi q=-2 Entropy = {}\".format(get_renyi_entropy(df_zurich['freq'],-2)))\n",
    "print(\"Shannon Entropy = {}\".format(get_entropy(df_zurich['freq'])))\n",
    "print(\"Renyi q=2 Entropy = {}\".format(get_renyi_entropy(df_zurich['freq'],2)))"
   ]
  },
  {
   "cell_type": "code",
   "execution_count": 127,
   "metadata": {},
   "outputs": [
    {
     "name": "stdout",
     "output_type": "stream",
     "text": [
      "TORONTO\n",
      "Renyi q=-2 Entropy = 6.47202342062\n",
      "Shannon Entropy = 3.36837967\n",
      "Renyi q=2 Entropy = 2.98125518393\n"
     ]
    }
   ],
   "source": [
    "print(\"TORONTO\")\n",
    "print(\"Renyi q=-2 Entropy = {}\".format(get_renyi_entropy(df_toronto['freq'],-2)))\n",
    "print(\"Shannon Entropy = {}\".format(get_entropy(df_toronto['freq'])))\n",
    "print(\"Renyi q=2 Entropy = {}\".format(get_renyi_entropy(df_toronto['freq'],2)))"
   ]
  },
  {
   "cell_type": "code",
   "execution_count": 128,
   "metadata": {},
   "outputs": [
    {
     "name": "stdout",
     "output_type": "stream",
     "text": [
      "SARAJEVO\n",
      "Renyi q=-2 Entropy = 4.06269034418\n",
      "Shannon Entropy = 2.33888024698\n",
      "Renyi q=2 Entropy = 1.77545653234\n"
     ]
    }
   ],
   "source": [
    "print(\"SARAJEVO\")\n",
    "print(\"Renyi q=-2 Entropy = {}\".format(get_renyi_entropy(df_sarajevo['freq'],-2)))\n",
    "print(\"Shannon Entropy = {}\".format(get_entropy(df_sarajevo['freq'])))\n",
    "print(\"Renyi q=2 Entropy = {}\".format(get_renyi_entropy(df_sarajevo['freq'],2)))"
   ]
  },
  {
   "cell_type": "code",
   "execution_count": 129,
   "metadata": {},
   "outputs": [
    {
     "name": "stdout",
     "output_type": "stream",
     "text": [
      "WARSAW\n",
      "Renyi q=-2 Entropy = 6.07415171359\n",
      "Shannon Entropy = 3.16714348921\n",
      "Renyi q=2 Entropy = 2.68390009462\n"
     ]
    }
   ],
   "source": [
    "print(\"WARSAW\")\n",
    "print(\"Renyi q=-2 Entropy = {}\".format(get_renyi_entropy(df_warsaw['freq'],-2)))\n",
    "print(\"Shannon Entropy = {}\".format(get_entropy(df_warsaw['freq'])))\n",
    "print(\"Renyi q=2 Entropy = {}\".format(get_renyi_entropy(df_warsaw['freq'],2)))"
   ]
  },
  {
   "cell_type": "code",
   "execution_count": 130,
   "metadata": {},
   "outputs": [
    {
     "name": "stdout",
     "output_type": "stream",
     "text": [
      "VIENNA\n",
      "Renyi q=-2 Entropy = 5.82327932508\n",
      "Shannon Entropy = 2.93997067268\n",
      "Renyi q=2 Entropy = 2.42163005641\n"
     ]
    }
   ],
   "source": [
    "print(\"VIENNA\")\n",
    "print(\"Renyi q=-2 Entropy = {}\".format(get_renyi_entropy(df_vienna['freq'],-2)))\n",
    "print(\"Shannon Entropy = {}\".format(get_entropy(df_vienna['freq'])))\n",
    "print(\"Renyi q=2 Entropy = {}\".format(get_renyi_entropy(df_vienna['freq'],2)))"
   ]
  },
  {
   "cell_type": "code",
   "execution_count": null,
   "metadata": {},
   "outputs": [],
   "source": []
  },
  {
   "cell_type": "code",
   "execution_count": null,
   "metadata": {},
   "outputs": [],
   "source": []
  },
  {
   "cell_type": "code",
   "execution_count": 132,
   "metadata": {},
   "outputs": [],
   "source": [
    "import os\n",
    "files = os.listdir('./Data/Citizenship/')\n",
    "\n",
    "df = pd.DataFrame()\n",
    "for file in files:\n",
    "    \n",
    "    if 'csv' in file:\n",
    "        country = file.split('_')[0]\n",
    "        \n",
    "        file_location = get_citizenship_filename(country)\n",
    "        df_country = pd.read_csv(file_location)\n",
    "        \n",
    "        ' Transform dataframe '\n",
    "        df_country = df_country[ df_country['SEX']=='Total' ]\n",
    "        df_country = df_country[['GEO','CITIZEN','Value']]\n",
    "        df_country.rename(columns={\"GEO\": \"country\", \"CITIZEN\": \"citizenship\",\"Value\":\"count\"}, inplace=True)\n",
    "        df_country.drop(df_country.index[df_country['citizenship'] == 'Total'], inplace = True)\n",
    "        df_country['count'] = df_country['count'].str.replace(\",\", \"\").replace(\":\", \"0\")\n",
    "        df_country['count'] = df_country['count'].astype('int32')\n",
    "        country_name = df_country['country'].unique()[0].split()[0].lower()\n",
    "        df_country.drop('country', axis=1, inplace=True)\n",
    "        df_country.set_index('citizenship', inplace=True)\n",
    "        df_country.columns = [country_name]\n",
    "    \n",
    "        ' Join to master dataframe '\n",
    "        df = df_country.join(df)\n",
    "        "
   ]
  },
  {
   "cell_type": "code",
   "execution_count": 133,
   "metadata": {},
   "outputs": [],
   "source": [
    "population_entropy = {}\n",
    "\n",
    "for country in df.columns:\n",
    "    \n",
    "    sCounts = df[ country.lower() ]\n",
    "    \n",
    "    sFrequency = get_frequency(sCounts)\n",
    "    \n",
    "    population_entropy[country] = get_entropy(sFrequency)"
   ]
  },
  {
   "cell_type": "code",
   "execution_count": 134,
   "metadata": {},
   "outputs": [
    {
     "name": "stdout",
     "output_type": "stream",
     "text": [
      "romania 0.06033001142060689\n",
      "estonia 0.49296517517379207\n",
      "austria 0.9794205230326298\n",
      "greece 0.1436013860484726\n",
      "hungary 0.1564857223237507\n",
      "united 3.009309740183172\n",
      "italy 0.5861493507899175\n",
      "portugal 0.33911452678535253\n",
      "lithuania 0.12278602369188238\n",
      "sweden 0.6301382346821194\n",
      "luxembourg 2.0227308986432613\n",
      "france 0.16081551545164577\n",
      "slovakia 0.1146489242475484\n",
      "ireland 0.7698472463191987\n",
      "norway 0.7326268690205531\n",
      "iceland 0.7068479502337731\n",
      "montenegro 0.25433341364019174\n",
      "switzerland 1.3487605452314266\n",
      "germany 0.807062453882926\n",
      "spain 0.6443965395800964\n",
      "netherlands 0.4520999665741522\n",
      "slovenia 0.38184099521726994\n",
      "denmark 0.6493242697918692\n",
      "poland 0.009111813251194851\n",
      "finland 0.3525061746452698\n",
      "liechtenstein 1.5133355903460424\n",
      "latvia 0.20786140408776416\n",
      "croatia 0.03926619063329212\n",
      "czechia 0.35400800749786226\n",
      "bulgaria 0.1090700736701504\n"
     ]
    }
   ],
   "source": [
    "for country in population_entropy.keys():\n",
    "    print country,population_entropy[country]"
   ]
  },
  {
   "cell_type": "code",
   "execution_count": 135,
   "metadata": {},
   "outputs": [
    {
     "data": {
      "text/plain": [
       "['Ireland',\n",
       " 'Switzerland',\n",
       " 'Poland',\n",
       " 'Austria',\n",
       " 'Latvia',\n",
       " 'Czechia',\n",
       " 'Montenegro',\n",
       " 'Greece',\n",
       " 'Portugal',\n",
       " 'Spain',\n",
       " 'Italy',\n",
       " 'Denmark',\n",
       " 'Iceland',\n",
       " 'France',\n",
       " 'Germany']"
      ]
     },
     "execution_count": 135,
     "metadata": {},
     "output_type": "execute_result"
    }
   ],
   "source": [
    "country_list"
   ]
  },
  {
   "cell_type": "code",
   "execution_count": 136,
   "metadata": {},
   "outputs": [
    {
     "data": {
      "text/plain": [
       "[0.7698472463191987,\n",
       " 1.3487605452314266,\n",
       " 0.009111813251194851,\n",
       " 0.9794205230326298,\n",
       " 0.20786140408776416,\n",
       " 0.35400800749786226,\n",
       " 0.25433341364019174,\n",
       " 0.1436013860484726,\n",
       " 0.33911452678535253,\n",
       " 0.6443965395800964,\n",
       " 0.5861493507899175,\n",
       " 0.6493242697918692,\n",
       " 0.7068479502337731,\n",
       " 0.16081551545164577,\n",
       " 0.807062453882926]"
      ]
     },
     "execution_count": 136,
     "metadata": {},
     "output_type": "execute_result"
    }
   ],
   "source": [
    "pop_entropy"
   ]
  },
  {
   "cell_type": "code",
   "execution_count": null,
   "metadata": {},
   "outputs": [],
   "source": []
  }
 ],
 "metadata": {
  "kernelspec": {
   "display_name": "Python 2",
   "language": "python",
   "name": "python2"
  },
  "language_info": {
   "codemirror_mode": {
    "name": "ipython",
    "version": 2
   },
   "file_extension": ".py",
   "mimetype": "text/x-python",
   "name": "python",
   "nbconvert_exporter": "python",
   "pygments_lexer": "ipython2",
   "version": "2.7.16"
  }
 },
 "nbformat": 4,
 "nbformat_minor": 2
}
