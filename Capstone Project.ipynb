{
 "cells": [
  {
   "cell_type": "markdown",
   "metadata": {
    "collapsed": true
   },
   "source": [
    "# Capstone Project: Data Collection     \n",
    "\n",
    "29/11/2020\n",
    "\n",
    "We collect restaurant data via the Foursquare API."
   ]
  },
  {
   "cell_type": "code",
   "execution_count": 1,
   "metadata": {
    "scrolled": true
   },
   "outputs": [],
   "source": [
    "import pandas as pd\n",
    "import numpy as np\n",
    "import requests \n",
    "import json # library to handle JSON files\n",
    "from pandas.io.json import json_normalize # tranform JSON file into a pandas dataframe\n",
    "\n",
    "# Matplotlib and associated plotting modules\n",
    "import matplotlib.cm as cm\n",
    "import matplotlib.colors as colors\n",
    "#!pip install folium\n",
    "import folium # map rendering library\n"
   ]
  },
  {
   "cell_type": "code",
   "execution_count": 2,
   "metadata": {},
   "outputs": [
    {
     "data": {
      "text/html": [
       "<div style=\"width:100%;\"><div style=\"position:relative;width:100%;height:0;padding-bottom:60%;\"><iframe src=\"data:text/html;charset=utf-8;base64,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\" style=\"position:absolute;width:100%;height:100%;left:0;top:0;border:none !important;\" allowfullscreen webkitallowfullscreen mozallowfullscreen></iframe></div></div>"
      ],
      "text/plain": [
       "<folium.folium.Map at 0x7f93085dd8d0>"
      ]
     },
     "execution_count": 2,
     "metadata": {},
     "output_type": "execute_result"
    }
   ],
   "source": [
    "# Coordinates of Dublin\n",
    "latitude = 53.3498\n",
    "longitude = -6.2603\n",
    "\n",
    "# create map of Toronto using latitude and longitude values\n",
    "map_dublin = folium.Map(location=[latitude, longitude], zoom_start=11)\n",
    "\n",
    "# add markers to map\n",
    "#for lat, lng, borough, neighborhood in zip(df['Latitude'], df['Longitude'], df['Borough'], df['Neighborhood']):\n",
    "#    label = '{}, {}'.format(neighborhood, borough)\n",
    "#    label = folium.Popup(label, parse_html=True)\n",
    "#    folium.CircleMarker(\n",
    "#        [lat, lng],\n",
    "#        radius=5,\n",
    "#        popup=label,\n",
    "#        color='blue',\n",
    "#        fill=True,\n",
    "#        fill_color='#3186cc',\n",
    "#        fill_opacity=0.7,\n",
    "#        parse_html=False).add_to(map_toronto)  \n",
    "    \n",
    "map_dublin"
   ]
  },
  {
   "cell_type": "code",
   "execution_count": 3,
   "metadata": {},
   "outputs": [],
   "source": [
    "# @hidden_cell\n",
    "CLIENT_ID = '34CRGBIL11CRLO5BNFSRKHWNRQT1GWTB4QKGYG5GLQYM3JKQ' # your Foursquare ID\n",
    "CLIENT_SECRET = 'HRPY3HMJC1FSPYTC2VRVUANCY1JY20NBRA5400RQYOEOFCNB' # your Foursquare Secret\n",
    "#VERSION = '20180605' # Foursquare API version\n",
    "VERSION = '20201123' # Foursquare API version\n",
    "RADIUS=250\n",
    "LIMIT = 50 # A default Foursquare API limit value\n",
    "lat = 53.3498\n",
    "lng = -6.2603# The code was removed by Watson Studio for sharing."
   ]
  },
  {
   "cell_type": "code",
   "execution_count": 4,
   "metadata": {},
   "outputs": [],
   "source": [
    "# List of categories\n",
    "afghan = '503288ae91d4c4b30a586d67'\n",
    "african = '4bf58dd8d48988d1c8941735'\n",
    "american = '4bf58dd8d48988d14e941735'\n",
    "asian = '4bf58dd8d48988d142941735'\n",
    "australian = '4bf58dd8d48988d169941735'\n",
    "austrian = '52e81612bcbc57f1066b7a01'\n",
    "bangladesh = '5e179ee74ae8e90006e9a746'\n",
    "belgium = '52e81612bcbc57f1066b7a02'\n",
    "cajun = '4bf58dd8d48988d17a941735'\n",
    "caribbean = '4bf58dd8d48988d144941735'\n",
    "caucasian = '5293a7d53cf9994f4e043a45'\n",
    "czech = '52f2ae52bcbc57f1066b8b81'\n",
    "dutch = '5744ccdfe4b0c0459246b4d0'\n",
    "eastEurope = '4bf58dd8d48988d109941735'\n",
    "english = '52e81612bcbc57f1066b7a05'\n",
    "french = '4bf58dd8d48988d10c941735'\n",
    "german = '4bf58dd8d48988d10d941735'\n",
    "greek = '4bf58dd8d48988d10e941735'\n",
    "hungary = '52e81612bcbc57f1066b79fa'\n",
    "indian = '4bf58dd8d48988d10f941735'\n",
    "italian = '4bf58dd8d48988d110941735'\n",
    "jewish = '52e81612bcbc57f1066b79fd'\n",
    "latin = '4bf58dd8d48988d1be941735'\n",
    "meditarranean = '4bf58dd8d48988d1c0941735'\n",
    "mexican = '4bf58dd8d48988d1c1941735'\n",
    "middleEast = '4bf58dd8d48988d115941735'\n",
    "modernEuropean = '52e81612bcbc57f1066b79f9'\n",
    "pakistan = '52e81612bcbc57f1066b79f8'\n",
    "polish = '52e81612bcbc57f1066b7a04'\n",
    "portugal = '4def73e84765ae376e57713a'\n",
    "russia = '5293a7563cf9994f4e043a44'\n",
    "scandinavia = '4bf58dd8d48988d1c6941735'\n",
    "scotland = '5744ccdde4b0c0459246b4a3'\n",
    "slovak = '56aa371be4b08b9a8d57355a'\n",
    "spain = '4bf58dd8d48988d150941735'\n",
    "srilanka = '5413605de4b0ae91d18581a9'\n",
    "swiss = '4bf58dd8d48988d158941735'\n",
    "turkey = '4f04af1f2fb6e1c99f3db0bb'\n",
    "ukraine = '52e928d0bcbc57f1066b7e96'\n",
    "\n",
    "category_list = [afghan,african,american,asian,australian,austrian,bangladesh,belgium,cajun,caribbean,caucasian,czech,dutch,eastEurope,english,\n",
    "                 french,german,greek,hungary,indian,italian,jewish,latin,meditarranean,mexican,middleEast,modernEuropean,pakistan,polish,\n",
    "                 portugal,russia,scandinavia,scotland,slovak,spain,srilanka,swiss,turkey,ukraine] \n",
    "\n",
    "CATEGORIES = ','.join(category_list)\n"
   ]
  },
  {
   "cell_type": "code",
   "execution_count": 10,
   "metadata": {},
   "outputs": [],
   "source": [
    "def getVenues(latitude, longitude, record_list):\n",
    "    \n",
    "    url = 'https://api.foursquare.com/v2/venues/search?&categoryId={}&client_id={}&client_secret={}&v={}&ll={},{}&radius={}&limit={}&intent=browse'.format(\n",
    "            CATEGORIES,\n",
    "            CLIENT_ID, \n",
    "            CLIENT_SECRET, \n",
    "            VERSION, \n",
    "            latitude, \n",
    "            longitude, \n",
    "            RADIUS,\n",
    "            LIMIT)\n",
    "    \n",
    "    results = requests.get(url).json()\n",
    "    \n",
    "    venues = results['response']['venues']\n",
    "    \n",
    "    limitBreached = False\n",
    "    if len(venues) >= 50:\n",
    "        limitBreached = True\n",
    "    \n",
    "    for i in range(len(venues)):\n",
    "    \n",
    "        try:\n",
    "            isError = False\n",
    "        \n",
    "            venue_id = venues[i]['id']\n",
    "            venue_name = venues[i]['name']\n",
    "            lat = venues[i]['location']['lat']\n",
    "            lng = venues[i]['location']['lng']\n",
    "            category = venues[i]['categories'][0]['name']\n",
    "    \n",
    "            record = (venue_id, venue_name, lat, lng, category)\n",
    "    \n",
    "            record_list.append(record)\n",
    "        except:\n",
    "            isError = True\n",
    "    \n",
    "    return( (record_list, isError, limitBreached) )"
   ]
  },
  {
   "cell_type": "code",
   "execution_count": 11,
   "metadata": {},
   "outputs": [],
   "source": [
    "coord_list = [(53.3498,-6.2603)]"
   ]
  },
  {
   "cell_type": "code",
   "execution_count": null,
   "metadata": {},
   "outputs": [],
   "source": [
    "\n",
    "    "
   ]
  },
  {
   "cell_type": "code",
   "execution_count": null,
   "metadata": {},
   "outputs": [],
   "source": []
  },
  {
   "cell_type": "code",
   "execution_count": null,
   "metadata": {},
   "outputs": [],
   "source": []
  },
  {
   "cell_type": "code",
   "execution_count": null,
   "metadata": {},
   "outputs": [],
   "source": []
  },
  {
   "cell_type": "code",
   "execution_count": null,
   "metadata": {},
   "outputs": [],
   "source": []
  },
  {
   "cell_type": "code",
   "execution_count": null,
   "metadata": {},
   "outputs": [],
   "source": []
  },
  {
   "cell_type": "code",
   "execution_count": null,
   "metadata": {},
   "outputs": [],
   "source": []
  },
  {
   "cell_type": "code",
   "execution_count": null,
   "metadata": {},
   "outputs": [],
   "source": []
  },
  {
   "cell_type": "markdown",
   "metadata": {},
   "source": [
    "# Dublin"
   ]
  },
  {
   "cell_type": "code",
   "execution_count": 52,
   "metadata": {},
   "outputs": [],
   "source": [
    "lat_centre = 53.3498\n",
    "long_centre = -6.2603\n",
    "\n",
    "lat_edge = 53.3498\n",
    "long_edge = -6.3816\n",
    "\n",
    "# Calculate radius\n",
    "radius = np.sqrt( (lat_edge-lat_centre)**2 + (long_edge-long_centre)**2 )\n",
    "\n",
    "# Calculate box boundaries\n",
    "y_max = lat_centre + radius\n",
    "y_min = lat_centre - radius\n",
    "x_max = long_centre + radius\n",
    "x_min = long_centre - radius\n",
    "\n",
    "y_step = 1.0/(110.574)\n",
    "x_step = 1.0/(111.32*np.cos(2.0*np.pi*lat_centre/360.0))\n",
    "\n",
    "num_x_points = int((x_max-x_min)/x_step)\n",
    "num_y_points = int((y_max-y_min)/y_step)\n",
    "\n",
    "lats = np.linspace(x_min,x_max,num_x_points)\n",
    "longs = np.linspace(y_min,y_max,num_y_points)\n",
    "\n",
    "' Create matrix of coordinate values '\n",
    "coord_list = []\n",
    "for x in longs:\n",
    "    for y in lats:\n",
    "        coord_list.append( (x,y) )\n"
   ]
  },
  {
   "cell_type": "code",
   "execution_count": null,
   "metadata": {},
   "outputs": [],
   "source": [
    "record_list = []\n",
    "\n",
    "for coord in coord_list:\n",
    "    \n",
    "    lat = coord[0]\n",
    "    lng = coord[1]\n",
    "    \n",
    "    record_list, isError, limitBreached = getVenues(lat, lng, record_list)\n",
    "        \n",
    "    if isError == True:\n",
    "        print(\"lat = {} long = {} ERROR\".format(lat,lng))\n",
    "    elif limitBreached == True:\n",
    "        print(\"lat = {} long = {} LIMIT BREACHED\".format(lat,lng))\n",
    "    else:\n",
    "        print(\"lat = {} long = {}\".format(lat,lng))\n",
    "\n",
    "    \n",
    "df_venues = pd.DataFrame.from_records(record_list)    "
   ]
  },
  {
   "cell_type": "code",
   "execution_count": null,
   "metadata": {},
   "outputs": [],
   "source": []
  }
 ],
 "metadata": {
  "kernelspec": {
   "display_name": "Python 2",
   "language": "python",
   "name": "python2"
  },
  "language_info": {
   "codemirror_mode": {
    "name": "ipython",
    "version": 2
   },
   "file_extension": ".py",
   "mimetype": "text/x-python",
   "name": "python",
   "nbconvert_exporter": "python",
   "pygments_lexer": "ipython2",
   "version": "2.7.16"
  }
 },
 "nbformat": 4,
 "nbformat_minor": 1
}
