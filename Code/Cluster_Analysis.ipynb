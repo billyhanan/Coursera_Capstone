{
 "cells": [
  {
   "cell_type": "markdown",
   "metadata": {},
   "source": [
    "# Exploratory Analysis\n",
    "\n",
    "chrome-extension://oemmndcbldboiebfnladdacbdfmadadm/https://ec.europa.eu/eurostat/documents/3433488/5579176/KS-SF-11-034-EN.PDF/63cebff3-f7ac-4ca6-ab33-4e8792c5f30c\n",
    "\n",
    "https://appsso.eurostat.ec.europa.eu/nui/submitViewTableAction.do\n",
    "\n",
    "https://en.wikipedia.org/wiki/List_of_sovereign_states_and_dependent_territories_by_immigrant_population\n",
    "\n",
    "https://data.worldbank.org/indicator/SM.POP.TOTL.ZS?name_desc=false&view=map\n",
    "\n",
    "https://en.wikipedia.org/wiki/Demographics_of_Europe\n",
    "\n",
    "https://data.oecd.org/migration/foreign-population.htm\n",
    "\n",
    "https://www.weforum.org/agenda/2019/03/which-countries-have-the-most-immigrants-51048ff1f9/"
   ]
  },
  {
   "cell_type": "code",
   "execution_count": 1,
   "metadata": {},
   "outputs": [],
   "source": [
    "import pandas as pd\n",
    "import numpy as np\n",
    "import requests \n",
    "import json # library to handle JSON files\n",
    "from pandas.io.json import json_normalize # tranform JSON file into a pandas dataframe\n",
    "\n",
    "# Matplotlib and associated plotting modules\n",
    "import matplotlib.cm as cm\n",
    "import matplotlib.colors as colors\n",
    "import matplotlib.pyplot as plt\n",
    "import matplotlib\n",
    "\n",
    "import folium # map rendering library\n",
    "\n",
    "% matplotlib inline"
   ]
  },
  {
   "cell_type": "markdown",
   "metadata": {},
   "source": [
    "## Read and Process Restaurant Data"
   ]
  },
  {
   "cell_type": "code",
   "execution_count": 2,
   "metadata": {},
   "outputs": [],
   "source": [
    "city_list = ['Dublin','Zurich','Warsaw','Vienna','Riga','Prague','Podgorica','Athens',\n",
    "             'Porto','Barcelona','Milan','Copenhagen','Reykjavik','Lyon','Munich',\n",
    "             'Luxembourg','Oslo','Vaduz','Sofia','Amsterdam','Bucharest','London']\n",
    "\n",
    "' Read in data files into single dataframe '\n",
    "df_restaurants = pd.DataFrame()\n",
    "for city in city_list:\n",
    "    \n",
    "    ' Read in city file '\n",
    "    file_location = './Data/{}/{}_restaurants.csv'.format(city, city.lower())\n",
    "    df_city = pd.read_csv(file_location,encoding='utf-8')\n",
    "    \n",
    "    ' Append City Name to dataframe '\n",
    "    df_city['city'] = city\n",
    "    df_city = df_city[['city','lat_centre','long_centre','num_venues','venue_iter','venue_id','venue_name','lat_venue','long_venue','category']]\n",
    "    \n",
    "    'Append results to master dataframe '\n",
    "    df_restaurants = df_restaurants.append(df_city, ignore_index=True)\n",
    "    \n",
    "' Extract Cuisine Type from Category column '\n",
    "df_restaurants['cuisine'] = df_restaurants['category'].apply(lambda x:x.replace(' Restaurant','').lower())\n"
   ]
  },
  {
   "cell_type": "code",
   "execution_count": 3,
   "metadata": {},
   "outputs": [
    {
     "data": {
      "text/plain": [
       "London        6588\n",
       "Barcelona     3236\n",
       "Warsaw        1758\n",
       "Milan         1598\n",
       "Vienna        1475\n",
       "Munich        1468\n",
       "Prague        1331\n",
       "Athens        1265\n",
       "Amsterdam     1062\n",
       "Zurich        1007\n",
       "Bucharest     1001\n",
       "Copenhagen     961\n",
       "Porto          894\n",
       "Sofia          868\n",
       "Lyon           737\n",
       "Riga           680\n",
       "Dublin         628\n",
       "Oslo           432\n",
       "Luxembourg     216\n",
       "Reykjavik       90\n",
       "Podgorica       79\n",
       "Vaduz           48\n",
       "Name: city, dtype: int64"
      ]
     },
     "execution_count": 3,
     "metadata": {},
     "output_type": "execute_result"
    }
   ],
   "source": [
    "df_restaurants['city'].value_counts()"
   ]
  },
  {
   "cell_type": "markdown",
   "metadata": {},
   "source": [
    "## Construct dataframe with frequency of cuisine types in each City"
   ]
  },
  {
   "cell_type": "code",
   "execution_count": 4,
   "metadata": {},
   "outputs": [],
   "source": [
    "' Create empty dataframe '\n",
    "df_cuisine_count = pd.DataFrame()\n",
    "\n",
    "for city in city_list:\n",
    "    \n",
    "    ' Obtain cuisine counts in city '\n",
    "    df_count = df_restaurants[ df_restaurants['city'] == city ]['cuisine'].value_counts().to_frame()\n",
    "    df_count.columns = [ city.lower() ]\n",
    "    \n",
    "    ' Join to master dataframe '\n",
    "    df_cuisine_count = df_cuisine_count.join(df_count, how='outer')\n",
    "    \n",
    "' Replace empty values with zero '\n",
    "df_cuisine_count.fillna(0, inplace=True)"
   ]
  },
  {
   "cell_type": "code",
   "execution_count": 5,
   "metadata": {},
   "outputs": [
    {
     "data": {
      "text/html": [
       "<div>\n",
       "<style scoped>\n",
       "    .dataframe tbody tr th:only-of-type {\n",
       "        vertical-align: middle;\n",
       "    }\n",
       "\n",
       "    .dataframe tbody tr th {\n",
       "        vertical-align: top;\n",
       "    }\n",
       "\n",
       "    .dataframe thead th {\n",
       "        text-align: right;\n",
       "    }\n",
       "</style>\n",
       "<table border=\"1\" class=\"dataframe\">\n",
       "  <thead>\n",
       "    <tr style=\"text-align: right;\">\n",
       "      <th></th>\n",
       "      <th>dublin</th>\n",
       "      <th>zurich</th>\n",
       "      <th>warsaw</th>\n",
       "      <th>vienna</th>\n",
       "      <th>riga</th>\n",
       "      <th>prague</th>\n",
       "      <th>podgorica</th>\n",
       "      <th>athens</th>\n",
       "      <th>porto</th>\n",
       "      <th>barcelona</th>\n",
       "      <th>...</th>\n",
       "      <th>reykjavik</th>\n",
       "      <th>lyon</th>\n",
       "      <th>munich</th>\n",
       "      <th>luxembourg</th>\n",
       "      <th>oslo</th>\n",
       "      <th>vaduz</th>\n",
       "      <th>sofia</th>\n",
       "      <th>amsterdam</th>\n",
       "      <th>bucharest</th>\n",
       "      <th>london</th>\n",
       "    </tr>\n",
       "  </thead>\n",
       "  <tbody>\n",
       "    <tr>\n",
       "      <th>abruzzo</th>\n",
       "      <td>0.0</td>\n",
       "      <td>0.0</td>\n",
       "      <td>0.0</td>\n",
       "      <td>0.0</td>\n",
       "      <td>0.0</td>\n",
       "      <td>0.0</td>\n",
       "      <td>0.0</td>\n",
       "      <td>0.0</td>\n",
       "      <td>0.0</td>\n",
       "      <td>0.0</td>\n",
       "      <td>...</td>\n",
       "      <td>0.0</td>\n",
       "      <td>0.0</td>\n",
       "      <td>0.0</td>\n",
       "      <td>0.0</td>\n",
       "      <td>0.0</td>\n",
       "      <td>0.0</td>\n",
       "      <td>0.0</td>\n",
       "      <td>0.0</td>\n",
       "      <td>0.0</td>\n",
       "      <td>0.0</td>\n",
       "    </tr>\n",
       "    <tr>\n",
       "      <th>afghan</th>\n",
       "      <td>1.0</td>\n",
       "      <td>1.0</td>\n",
       "      <td>17.0</td>\n",
       "      <td>4.0</td>\n",
       "      <td>36.0</td>\n",
       "      <td>8.0</td>\n",
       "      <td>0.0</td>\n",
       "      <td>1.0</td>\n",
       "      <td>2.0</td>\n",
       "      <td>0.0</td>\n",
       "      <td>...</td>\n",
       "      <td>2.0</td>\n",
       "      <td>1.0</td>\n",
       "      <td>6.0</td>\n",
       "      <td>1.0</td>\n",
       "      <td>1.0</td>\n",
       "      <td>0.0</td>\n",
       "      <td>4.0</td>\n",
       "      <td>2.0</td>\n",
       "      <td>4.0</td>\n",
       "      <td>14.0</td>\n",
       "    </tr>\n",
       "    <tr>\n",
       "      <th>african</th>\n",
       "      <td>5.0</td>\n",
       "      <td>3.0</td>\n",
       "      <td>16.0</td>\n",
       "      <td>5.0</td>\n",
       "      <td>27.0</td>\n",
       "      <td>3.0</td>\n",
       "      <td>1.0</td>\n",
       "      <td>1.0</td>\n",
       "      <td>8.0</td>\n",
       "      <td>7.0</td>\n",
       "      <td>...</td>\n",
       "      <td>2.0</td>\n",
       "      <td>6.0</td>\n",
       "      <td>6.0</td>\n",
       "      <td>0.0</td>\n",
       "      <td>4.0</td>\n",
       "      <td>0.0</td>\n",
       "      <td>3.0</td>\n",
       "      <td>7.0</td>\n",
       "      <td>3.0</td>\n",
       "      <td>131.0</td>\n",
       "    </tr>\n",
       "  </tbody>\n",
       "</table>\n",
       "<p>3 rows × 22 columns</p>\n",
       "</div>"
      ],
      "text/plain": [
       "         dublin  zurich  warsaw  vienna  riga  prague  podgorica  athens  \\\n",
       "abruzzo     0.0     0.0     0.0     0.0   0.0     0.0        0.0     0.0   \n",
       "afghan      1.0     1.0    17.0     4.0  36.0     8.0        0.0     1.0   \n",
       "african     5.0     3.0    16.0     5.0  27.0     3.0        1.0     1.0   \n",
       "\n",
       "         porto  barcelona  ...  reykjavik  lyon  munich  luxembourg  oslo  \\\n",
       "abruzzo    0.0        0.0  ...        0.0   0.0     0.0         0.0   0.0   \n",
       "afghan     2.0        0.0  ...        2.0   1.0     6.0         1.0   1.0   \n",
       "african    8.0        7.0  ...        2.0   6.0     6.0         0.0   4.0   \n",
       "\n",
       "         vaduz  sofia  amsterdam  bucharest  london  \n",
       "abruzzo    0.0    0.0        0.0        0.0     0.0  \n",
       "afghan     0.0    4.0        2.0        4.0    14.0  \n",
       "african    0.0    3.0        7.0        3.0   131.0  \n",
       "\n",
       "[3 rows x 22 columns]"
      ]
     },
     "execution_count": 5,
     "metadata": {},
     "output_type": "execute_result"
    }
   ],
   "source": [
    "df_cuisine_count.head(3)"
   ]
  },
  {
   "cell_type": "markdown",
   "metadata": {},
   "source": [
    "## Read and Process Demographic Data"
   ]
  },
  {
   "cell_type": "code",
   "execution_count": 6,
   "metadata": {},
   "outputs": [],
   "source": [
    "country_list = ['Ireland','Switzerland','Poland','Austria','Latvia','Czechia','Montenegro',\n",
    "                'Greece','Portugal','Spain','Italy','Denmark','Iceland','France','Germany',\n",
    "                'Luxembourg','Norway','Liechtenstein','Bulgaria','Netherlands','Romania','UK']\n",
    "\n",
    "\n",
    "def get_citizenship_filename(country):\n",
    "    \n",
    "    if country == 'France':\n",
    "        filename = 'France_2017.csv'\n",
    "    elif country == 'Montenegro':\n",
    "        filename = 'Montenegro_2011.csv'\n",
    "    else:\n",
    "        filename = '{}_2019.csv'.format(country)\n",
    "    \n",
    "    return('./Data/Citizenship/{}'.format(filename))\n",
    "    \n",
    "    \n",
    "' Read and process population data ' \n",
    "df_demo = pd.DataFrame()\n",
    "for country in country_list:\n",
    "    \n",
    "    file_location = get_citizenship_filename(country)\n",
    "    df_country = pd.read_csv(file_location)\n",
    "    \n",
    "    ' Transform dataframe '\n",
    "    df_country = df_country[ df_country['SEX']=='Total' ]\n",
    "    df_country = df_country[['GEO','CITIZEN','Value']]\n",
    "    df_country.rename(columns={\"GEO\": \"country\", \"CITIZEN\": \"citizenship\",\"Value\":\"count\"}, inplace=True)\n",
    "    df_country.drop(df_country.index[df_country['citizenship'] == 'Total'], inplace = True)\n",
    "    df_country['count'] = df_country['count'].str.replace(\",\", \"\").replace(\":\", \"0\")\n",
    "    df_country['count'] = df_country['count'].astype('int32')\n",
    "    country_name = df_country['country'].unique()[0].split()[0].lower()\n",
    "    df_country.drop('country', axis=1, inplace=True)\n",
    "    df_country.set_index('citizenship', inplace=True)\n",
    "    df_country.columns = [country_name]\n",
    "    \n",
    "    ' Join to master dataframe '\n",
    "    df_demo = df_country.join(df_demo)\n",
    "    \n",
    "' Rename United Kingdom -> UK '\n",
    "df_demo.rename(columns={'united':'uk'},inplace=True)\n"
   ]
  },
  {
   "cell_type": "code",
   "execution_count": 7,
   "metadata": {},
   "outputs": [
    {
     "data": {
      "text/plain": [
       "uk               66647112\n",
       "romania          19413965\n",
       "netherlands      17225855\n",
       "bulgaria          6989979\n",
       "liechtenstein       38378\n",
       "norway            5325403\n",
       "luxembourg         613501\n",
       "germany          82819865\n",
       "france           66809816\n",
       "iceland            356942\n",
       "denmark           5797728\n",
       "italy            60358697\n",
       "spain            46692528\n",
       "portugal         10276529\n",
       "greece           10106077\n",
       "montenegro         598321\n",
       "czechia          10647546\n",
       "latvia            1714005\n",
       "austria           8842534\n",
       "poland           37714705\n",
       "switzerland       8430342\n",
       "ireland           4901396\n",
       "dtype: int64"
      ]
     },
     "execution_count": 7,
     "metadata": {},
     "output_type": "execute_result"
    }
   ],
   "source": [
    "df_demo.sum()"
   ]
  },
  {
   "cell_type": "code",
   "execution_count": 8,
   "metadata": {},
   "outputs": [
    {
     "data": {
      "text/html": [
       "<div>\n",
       "<style scoped>\n",
       "    .dataframe tbody tr th:only-of-type {\n",
       "        vertical-align: middle;\n",
       "    }\n",
       "\n",
       "    .dataframe tbody tr th {\n",
       "        vertical-align: top;\n",
       "    }\n",
       "\n",
       "    .dataframe thead th {\n",
       "        text-align: right;\n",
       "    }\n",
       "</style>\n",
       "<table border=\"1\" class=\"dataframe\">\n",
       "  <thead>\n",
       "    <tr style=\"text-align: right;\">\n",
       "      <th></th>\n",
       "      <th>uk</th>\n",
       "      <th>romania</th>\n",
       "      <th>netherlands</th>\n",
       "      <th>bulgaria</th>\n",
       "      <th>liechtenstein</th>\n",
       "      <th>norway</th>\n",
       "      <th>luxembourg</th>\n",
       "      <th>germany</th>\n",
       "      <th>france</th>\n",
       "      <th>iceland</th>\n",
       "      <th>...</th>\n",
       "      <th>spain</th>\n",
       "      <th>portugal</th>\n",
       "      <th>greece</th>\n",
       "      <th>montenegro</th>\n",
       "      <th>czechia</th>\n",
       "      <th>latvia</th>\n",
       "      <th>austria</th>\n",
       "      <th>poland</th>\n",
       "      <th>switzerland</th>\n",
       "      <th>ireland</th>\n",
       "    </tr>\n",
       "    <tr>\n",
       "      <th>citizenship</th>\n",
       "      <th></th>\n",
       "      <th></th>\n",
       "      <th></th>\n",
       "      <th></th>\n",
       "      <th></th>\n",
       "      <th></th>\n",
       "      <th></th>\n",
       "      <th></th>\n",
       "      <th></th>\n",
       "      <th></th>\n",
       "      <th></th>\n",
       "      <th></th>\n",
       "      <th></th>\n",
       "      <th></th>\n",
       "      <th></th>\n",
       "      <th></th>\n",
       "      <th></th>\n",
       "      <th></th>\n",
       "      <th></th>\n",
       "      <th></th>\n",
       "      <th></th>\n",
       "    </tr>\n",
       "  </thead>\n",
       "  <tbody>\n",
       "    <tr>\n",
       "      <th>Belgium</th>\n",
       "      <td>23135</td>\n",
       "      <td>985</td>\n",
       "      <td>34447</td>\n",
       "      <td>209</td>\n",
       "      <td>25</td>\n",
       "      <td>1284</td>\n",
       "      <td>19953</td>\n",
       "      <td>25904</td>\n",
       "      <td>102066</td>\n",
       "      <td>104</td>\n",
       "      <td>...</td>\n",
       "      <td>36980</td>\n",
       "      <td>4147</td>\n",
       "      <td>1279</td>\n",
       "      <td>1</td>\n",
       "      <td>809</td>\n",
       "      <td>37</td>\n",
       "      <td>2575</td>\n",
       "      <td>660</td>\n",
       "      <td>13474</td>\n",
       "      <td>1674</td>\n",
       "    </tr>\n",
       "    <tr>\n",
       "      <th>Bulgaria</th>\n",
       "      <td>102345</td>\n",
       "      <td>2814</td>\n",
       "      <td>31208</td>\n",
       "      <td>6896086</td>\n",
       "      <td>11</td>\n",
       "      <td>7349</td>\n",
       "      <td>1726</td>\n",
       "      <td>319271</td>\n",
       "      <td>23188</td>\n",
       "      <td>414</td>\n",
       "      <td>...</td>\n",
       "      <td>123335</td>\n",
       "      <td>6931</td>\n",
       "      <td>81174</td>\n",
       "      <td>32</td>\n",
       "      <td>15632</td>\n",
       "      <td>115</td>\n",
       "      <td>29920</td>\n",
       "      <td>2327</td>\n",
       "      <td>10054</td>\n",
       "      <td>2592</td>\n",
       "    </tr>\n",
       "    <tr>\n",
       "      <th>Czechia</th>\n",
       "      <td>46573</td>\n",
       "      <td>543</td>\n",
       "      <td>4144</td>\n",
       "      <td>416</td>\n",
       "      <td>22</td>\n",
       "      <td>1898</td>\n",
       "      <td>1130</td>\n",
       "      <td>56259</td>\n",
       "      <td>4628</td>\n",
       "      <td>692</td>\n",
       "      <td>...</td>\n",
       "      <td>0</td>\n",
       "      <td>463</td>\n",
       "      <td>913</td>\n",
       "      <td>23</td>\n",
       "      <td>10092342</td>\n",
       "      <td>34</td>\n",
       "      <td>13590</td>\n",
       "      <td>1123</td>\n",
       "      <td>8407</td>\n",
       "      <td>5302</td>\n",
       "    </tr>\n",
       "  </tbody>\n",
       "</table>\n",
       "<p>3 rows × 22 columns</p>\n",
       "</div>"
      ],
      "text/plain": [
       "                 uk  romania  netherlands  bulgaria  liechtenstein  norway  \\\n",
       "citizenship                                                                  \n",
       "Belgium       23135      985        34447       209             25    1284   \n",
       "Bulgaria     102345     2814        31208   6896086             11    7349   \n",
       "Czechia       46573      543         4144       416             22    1898   \n",
       "\n",
       "             luxembourg  germany  france  iceland  ...   spain  portugal  \\\n",
       "citizenship                                        ...                     \n",
       "Belgium           19953    25904  102066      104  ...   36980      4147   \n",
       "Bulgaria           1726   319271   23188      414  ...  123335      6931   \n",
       "Czechia            1130    56259    4628      692  ...       0       463   \n",
       "\n",
       "             greece  montenegro   czechia  latvia  austria  poland  \\\n",
       "citizenship                                                          \n",
       "Belgium        1279           1       809      37     2575     660   \n",
       "Bulgaria      81174          32     15632     115    29920    2327   \n",
       "Czechia         913          23  10092342      34    13590    1123   \n",
       "\n",
       "             switzerland  ireland  \n",
       "citizenship                        \n",
       "Belgium            13474     1674  \n",
       "Bulgaria           10054     2592  \n",
       "Czechia             8407     5302  \n",
       "\n",
       "[3 rows x 22 columns]"
      ]
     },
     "execution_count": 8,
     "metadata": {},
     "output_type": "execute_result"
    }
   ],
   "source": [
    "df_demo.head(3)"
   ]
  },
  {
   "cell_type": "markdown",
   "metadata": {},
   "source": [
    "## Clustering \n",
    "\n",
    "What cities offer a similar selection of cuisines? And what countries possess similar demographics in their migrant populations? \n",
    "\n",
    "These are the questions we will address here. "
   ]
  },
  {
   "cell_type": "markdown",
   "metadata": {},
   "source": [
    "## Clustering on Cuisines\n",
    "\n",
    "Are the cuisines available in restaurants across European cities more or less the same? Or are there distinct types? We shall explore this topic here. \n",
    "\n",
    "We begin by creating the cuisine feature vectors for each city. The hard work has previously being done!"
   ]
  },
  {
   "cell_type": "code",
   "execution_count": 9,
   "metadata": {},
   "outputs": [
    {
     "data": {
      "text/html": [
       "<div>\n",
       "<style scoped>\n",
       "    .dataframe tbody tr th:only-of-type {\n",
       "        vertical-align: middle;\n",
       "    }\n",
       "\n",
       "    .dataframe tbody tr th {\n",
       "        vertical-align: top;\n",
       "    }\n",
       "\n",
       "    .dataframe thead th {\n",
       "        text-align: right;\n",
       "    }\n",
       "</style>\n",
       "<table border=\"1\" class=\"dataframe\">\n",
       "  <thead>\n",
       "    <tr style=\"text-align: right;\">\n",
       "      <th></th>\n",
       "      <th>abruzzo</th>\n",
       "      <th>afghan</th>\n",
       "      <th>african</th>\n",
       "      <th>american</th>\n",
       "      <th>arepa</th>\n",
       "      <th>argentinian</th>\n",
       "      <th>asian</th>\n",
       "      <th>australian</th>\n",
       "      <th>austrian</th>\n",
       "      <th>bangladeshi</th>\n",
       "      <th>...</th>\n",
       "      <th>turkish home cooking</th>\n",
       "      <th>udon</th>\n",
       "      <th>ukrainian</th>\n",
       "      <th>umbrian</th>\n",
       "      <th>vegetarian / vegan</th>\n",
       "      <th>veneto</th>\n",
       "      <th>venezuelan</th>\n",
       "      <th>vietnamese</th>\n",
       "      <th>xinjiang</th>\n",
       "      <th>yemeni</th>\n",
       "    </tr>\n",
       "  </thead>\n",
       "  <tbody>\n",
       "    <tr>\n",
       "      <th>dublin</th>\n",
       "      <td>0.0</td>\n",
       "      <td>1.0</td>\n",
       "      <td>5.0</td>\n",
       "      <td>11.0</td>\n",
       "      <td>2.0</td>\n",
       "      <td>3.0</td>\n",
       "      <td>72.0</td>\n",
       "      <td>4.0</td>\n",
       "      <td>0.0</td>\n",
       "      <td>0.0</td>\n",
       "      <td>...</td>\n",
       "      <td>0.0</td>\n",
       "      <td>0.0</td>\n",
       "      <td>0.0</td>\n",
       "      <td>0.0</td>\n",
       "      <td>1.0</td>\n",
       "      <td>0.0</td>\n",
       "      <td>0.0</td>\n",
       "      <td>2.0</td>\n",
       "      <td>0.0</td>\n",
       "      <td>0.0</td>\n",
       "    </tr>\n",
       "    <tr>\n",
       "      <th>zurich</th>\n",
       "      <td>0.0</td>\n",
       "      <td>1.0</td>\n",
       "      <td>3.0</td>\n",
       "      <td>9.0</td>\n",
       "      <td>2.0</td>\n",
       "      <td>7.0</td>\n",
       "      <td>71.0</td>\n",
       "      <td>1.0</td>\n",
       "      <td>5.0</td>\n",
       "      <td>0.0</td>\n",
       "      <td>...</td>\n",
       "      <td>0.0</td>\n",
       "      <td>0.0</td>\n",
       "      <td>0.0</td>\n",
       "      <td>0.0</td>\n",
       "      <td>1.0</td>\n",
       "      <td>0.0</td>\n",
       "      <td>0.0</td>\n",
       "      <td>6.0</td>\n",
       "      <td>0.0</td>\n",
       "      <td>0.0</td>\n",
       "    </tr>\n",
       "    <tr>\n",
       "      <th>warsaw</th>\n",
       "      <td>0.0</td>\n",
       "      <td>17.0</td>\n",
       "      <td>16.0</td>\n",
       "      <td>44.0</td>\n",
       "      <td>6.0</td>\n",
       "      <td>3.0</td>\n",
       "      <td>203.0</td>\n",
       "      <td>2.0</td>\n",
       "      <td>1.0</td>\n",
       "      <td>0.0</td>\n",
       "      <td>...</td>\n",
       "      <td>0.0</td>\n",
       "      <td>1.0</td>\n",
       "      <td>5.0</td>\n",
       "      <td>0.0</td>\n",
       "      <td>4.0</td>\n",
       "      <td>0.0</td>\n",
       "      <td>0.0</td>\n",
       "      <td>76.0</td>\n",
       "      <td>0.0</td>\n",
       "      <td>0.0</td>\n",
       "    </tr>\n",
       "  </tbody>\n",
       "</table>\n",
       "<p>3 rows × 137 columns</p>\n",
       "</div>"
      ],
      "text/plain": [
       "        abruzzo  afghan  african  american  arepa  argentinian  asian  \\\n",
       "dublin      0.0     1.0      5.0      11.0    2.0          3.0   72.0   \n",
       "zurich      0.0     1.0      3.0       9.0    2.0          7.0   71.0   \n",
       "warsaw      0.0    17.0     16.0      44.0    6.0          3.0  203.0   \n",
       "\n",
       "        australian  austrian  bangladeshi  ...  turkish home cooking  udon  \\\n",
       "dublin         4.0       0.0          0.0  ...                   0.0   0.0   \n",
       "zurich         1.0       5.0          0.0  ...                   0.0   0.0   \n",
       "warsaw         2.0       1.0          0.0  ...                   0.0   1.0   \n",
       "\n",
       "        ukrainian  umbrian  vegetarian / vegan  veneto  venezuelan  \\\n",
       "dublin        0.0      0.0                 1.0     0.0         0.0   \n",
       "zurich        0.0      0.0                 1.0     0.0         0.0   \n",
       "warsaw        5.0      0.0                 4.0     0.0         0.0   \n",
       "\n",
       "        vietnamese  xinjiang  yemeni  \n",
       "dublin         2.0       0.0     0.0  \n",
       "zurich         6.0       0.0     0.0  \n",
       "warsaw        76.0       0.0     0.0  \n",
       "\n",
       "[3 rows x 137 columns]"
      ]
     },
     "execution_count": 9,
     "metadata": {},
     "output_type": "execute_result"
    }
   ],
   "source": [
    "df_cuisine_vectors = df_cuisine_count.transpose()\n",
    "df_cuisine_vectors.head(3)"
   ]
  },
  {
   "cell_type": "markdown",
   "metadata": {},
   "source": [
    "We have 130 different cuisine types in our feature vectors. Let us normalize these vectors (so that the cuisine vectors all have unit length) and perform k-means clustering. \n",
    "\n",
    "We shall use the elbow method to determine the optimal number of clusters."
   ]
  },
  {
   "cell_type": "code",
   "execution_count": 11,
   "metadata": {},
   "outputs": [],
   "source": [
    "from sklearn.preprocessing import normalize\n",
    "from sklearn.cluster import KMeans\n",
    "\n",
    "X = df_cuisine_vectors\n",
    "\n",
    "# Normaize features\n",
    "X = normalize(X)\n",
    "\n",
    "#kmeans = KMeans(n_clusters=3, random_state=0)\n",
    "#model = kmeans.fit(X)\n",
    "#model.cluster_centers_.shape"
   ]
  },
  {
   "cell_type": "code",
   "execution_count": 15,
   "metadata": {},
   "outputs": [
    {
     "data": {
      "text/plain": [
       "Text(0.5,1,'The Elbow Method using Inertia')"
      ]
     },
     "execution_count": 15,
     "metadata": {},
     "output_type": "execute_result"
    },
    {
     "data": {
      "image/png": "[encoded data removed]",
      "text/plain": [
       "<Figure size 432x288 with 1 Axes>"
      ]
     },
     "metadata": {
      "needs_background": "light"
     },
     "output_type": "display_data"
    }
   ],
   "source": [
    "inertias = [] \n",
    "K = range(1,16) \n",
    "  \n",
    "for k in K: \n",
    "    \n",
    "    #Building and fitting the model \n",
    "    kmeanModel = KMeans(n_clusters=k).fit(X) \n",
    "    kmeanModel.fit(X)     \n",
    "      \n",
    "    inertias.append(kmeanModel.inertia_) \n",
    "\n",
    "plt.plot(K, inertias, 'bx-') \n",
    "plt.xlabel('Values of K') \n",
    "plt.ylabel('Inertia') \n",
    "plt.title('The Elbow Method using Inertia') "
   ]
  },
  {
   "cell_type": "code",
   "execution_count": 17,
   "metadata": {},
   "outputs": [
    {
     "data": {
      "text/plain": [
       "Index([u'dublin', u'zurich', u'warsaw', u'vienna', u'riga', u'prague',\n",
       "       u'podgorica', u'athens', u'porto', u'barcelona', u'milan',\n",
       "       u'copenhagen', u'reykjavik', u'lyon', u'munich', u'luxembourg', u'oslo',\n",
       "       u'vaduz', u'sofia', u'amsterdam', u'bucharest', u'london'],\n",
       "      dtype='object')"
      ]
     },
     "execution_count": 17,
     "metadata": {},
     "output_type": "execute_result"
    }
   ],
   "source": [
    "df_cuisine_vectors.index"
   ]
  },
  {
   "cell_type": "code",
   "execution_count": null,
   "metadata": {},
   "outputs": [],
   "source": []
  },
  {
   "cell_type": "markdown",
   "metadata": {},
   "source": [
    "## Cosine Distance"
   ]
  },
  {
   "cell_type": "code",
   "execution_count": 100,
   "metadata": {},
   "outputs": [
    {
     "data": {
      "image/png": "[encoded data removed]",
      "text/plain": [
       "<Figure size 720x504 with 1 Axes>"
      ]
     },
     "metadata": {
      "needs_background": "light"
     },
     "output_type": "display_data"
    }
   ],
   "source": [
    "from scipy.cluster.hierarchy import dendrogram, linkage\n",
    "from matplotlib import pyplot as plt\n",
    "\n",
    "X = df_cuisine_vectors\n",
    "\n",
    "# generate the linkage matrix\n",
    "# method = single (min), complete (max), average, centroid, median, ward\n",
    "# metric: ‘braycurtis’, ‘canberra’, ‘chebyshev’, ‘cityblock’, ‘correlation’, \n",
    "#         ‘cosine’, ‘dice’, ‘euclidean’, ‘hamming’, ‘jaccard’, ‘jensenshannon’, \n",
    "#         ‘kulsinski’, ‘mahalanobis’, ‘matching’, ‘minkowski’, ‘rogerstanimoto’, \n",
    "#         ‘russellrao’, ‘seuclidean’, ‘sokalmichener’, ‘sokalsneath’, ‘sqeuclidean’, ‘yule’\n",
    "linked = linkage(X, method='complete', metric='cosine')\n",
    "\n",
    "labelList = range(len(X))\n",
    "\n",
    "plt.figure(figsize=(10, 7))\n",
    "dendrogram(linked,\n",
    "            orientation='top',\n",
    "            labels=city_list,\n",
    "            distance_sort='descending',\n",
    "            show_leaf_counts=True)\n",
    "plt.show()"
   ]
  },
  {
   "cell_type": "code",
   "execution_count": 55,
   "metadata": {},
   "outputs": [],
   "source": [
    "from sklearn.cluster import AgglomerativeClustering \n",
    "\n",
    "num_clusters = 7\n",
    "hc = AgglomerativeClustering(n_clusters = num_clusters, affinity = 'cosine', linkage ='complete')\n",
    "hc.fit(X)\n",
    "labels = hc.labels_"
   ]
  },
  {
   "cell_type": "code",
   "execution_count": 20,
   "metadata": {},
   "outputs": [
    {
     "data": {
      "text/plain": [
       "array([1, 2, 0, 0, 0, 1, 0, 3, 5, 4, 0, 1, 1, 6, 0, 0, 1, 2, 0, 0, 0, 1])"
      ]
     },
     "execution_count": 20,
     "metadata": {},
     "output_type": "execute_result"
    }
   ],
   "source": [
    "labels"
   ]
  },
  {
   "cell_type": "code",
   "execution_count": 56,
   "metadata": {},
   "outputs": [
    {
     "name": "stdout",
     "output_type": "stream",
     "text": [
      "['Warsaw', 'Vienna', 'Riga', 'Podgorica', 'Milan', 'Munich', 'Luxembourg', 'Sofia', 'Amsterdam', 'Bucharest']\n",
      "['Dublin', 'Prague', 'Copenhagen', 'Reykjavik', 'Oslo', 'London']\n",
      "['Zurich', 'Vaduz']\n",
      "['Athens']\n",
      "['Barcelona']\n",
      "['Porto']\n",
      "['Lyon']\n"
     ]
    }
   ],
   "source": [
    "for j in range(num_clusters):\n",
    "    \n",
    "    bool_list = (labels==j)\n",
    "\n",
    "    cities = []\n",
    "    for i in range(len(labels)):\n",
    "        if bool_list[i] == True:\n",
    "            cities.append(city_list[i])\n",
    "        \n",
    "    print(cities)"
   ]
  },
  {
   "cell_type": "markdown",
   "metadata": {},
   "source": [
    "## Keep only top N cuisine types"
   ]
  },
  {
   "cell_type": "code",
   "execution_count": 125,
   "metadata": {},
   "outputs": [
    {
     "name": "stdout",
     "output_type": "stream",
     "text": [
      "dublin: 8\n",
      "zurich: 9\n",
      "warsaw: 8\n",
      "vienna: 8\n",
      "riga: 8\n",
      "prague: 8\n",
      "podgorica: 10\n",
      "athens: 8\n",
      "porto: 8\n",
      "barcelona: 8\n",
      "milan: 8\n",
      "copenhagen: 8\n",
      "reykjavik: 8\n",
      "lyon: 8\n",
      "munich: 8\n",
      "luxembourg: 8\n",
      "oslo: 8\n",
      "vaduz: 8\n",
      "sofia: 8\n",
      "amsterdam: 8\n",
      "bucharest: 8\n",
      "london: 8\n"
     ]
    }
   ],
   "source": [
    "N = 8\n",
    "\n",
    "df_cuisine_vectors_trunc = df_cuisine_vectors.copy()\n",
    "\n",
    "for city in df_cuisine_vectors_trunc.index:\n",
    "\n",
    "    cutoff_value = df_cuisine_vectors_trunc.loc[city,:].sort_values(ascending=False)[0:N][-1]\n",
    "    \n",
    "    bool_series = df_cuisine_vectors_trunc.loc[city,:] < cutoff_value\n",
    "    \n",
    "    df_cuisine_vectors_trunc.loc[city,bool_series] = 0\n",
    "    \n",
    "    print city + \": \" + str(sum( df_cuisine_vectors_trunc.loc[city,:] > 0 ))"
   ]
  },
  {
   "cell_type": "code",
   "execution_count": 126,
   "metadata": {},
   "outputs": [
    {
     "data": {
      "image/png": "[encoded data removed]",
      "text/plain": [
       "<Figure size 720x504 with 1 Axes>"
      ]
     },
     "metadata": {
      "needs_background": "light"
     },
     "output_type": "display_data"
    }
   ],
   "source": [
    "from scipy.cluster.hierarchy import dendrogram, linkage\n",
    "from matplotlib import pyplot as plt\n",
    "\n",
    "X = df_cuisine_vectors_trunc\n",
    "\n",
    "# generate the linkage matrix\n",
    "# method = single (min), complete (max), average, centroid, median, ward\n",
    "# metric: ‘braycurtis’, ‘canberra’, ‘chebyshev’, ‘cityblock’, ‘correlation’, \n",
    "#         ‘cosine’, ‘dice’, ‘euclidean’, ‘hamming’, ‘jaccard’, ‘jensenshannon’, \n",
    "#         ‘kulsinski’, ‘mahalanobis’, ‘matching’, ‘minkowski’, ‘rogerstanimoto’, \n",
    "#         ‘russellrao’, ‘seuclidean’, ‘sokalmichener’, ‘sokalsneath’, ‘sqeuclidean’, ‘yule’\n",
    "linked = linkage(X, method='complete', metric='cosine')\n",
    "\n",
    "labelList = range(len(X))\n",
    "\n",
    "plt.figure(figsize=(10, 7))\n",
    "dendrogram(linked,\n",
    "            orientation='top',\n",
    "            labels=city_list,\n",
    "            distance_sort='descending',\n",
    "            show_leaf_counts=True)\n",
    "plt.show()"
   ]
  },
  {
   "cell_type": "code",
   "execution_count": 24,
   "metadata": {},
   "outputs": [],
   "source": [
    "from sklearn.cluster import AgglomerativeClustering \n",
    "\n",
    "num_clusters = 7\n",
    "hc = AgglomerativeClustering(n_clusters = num_clusters, affinity = 'cosine', linkage ='complete')\n",
    "hc.fit(X)\n",
    "labels = hc.labels_"
   ]
  },
  {
   "cell_type": "code",
   "execution_count": 25,
   "metadata": {},
   "outputs": [
    {
     "data": {
      "text/plain": [
       "array([0, 6, 0, 0, 0, 0, 0, 3, 5, 4, 0, 2, 2, 1, 0, 0, 2, 6, 0, 0, 0, 0])"
      ]
     },
     "execution_count": 25,
     "metadata": {},
     "output_type": "execute_result"
    }
   ],
   "source": [
    "labels"
   ]
  },
  {
   "cell_type": "code",
   "execution_count": 26,
   "metadata": {},
   "outputs": [
    {
     "name": "stdout",
     "output_type": "stream",
     "text": [
      "['Dublin', 'Warsaw', 'Vienna', 'Riga', 'Prague', 'Podgorica', 'Milan', 'Munich', 'Luxembourg', 'Sofia', 'Amsterdam', 'Bucharest', 'London']\n",
      "['Lyon']\n",
      "['Copenhagen', 'Reykjavik', 'Oslo']\n",
      "['Athens']\n",
      "['Barcelona']\n",
      "['Porto']\n",
      "['Zurich', 'Vaduz']\n"
     ]
    }
   ],
   "source": [
    "for j in range(num_clusters):\n",
    "    \n",
    "    bool_list = (labels==j)\n",
    "\n",
    "    cities = []\n",
    "    for i in range(len(labels)):\n",
    "        if bool_list[i] == True:\n",
    "            cities.append(city_list[i])\n",
    "        \n",
    "    print(cities)"
   ]
  },
  {
   "cell_type": "markdown",
   "metadata": {},
   "source": [
    "## Binary Clustering: Poor - Group by City Size!"
   ]
  },
  {
   "cell_type": "code",
   "execution_count": 123,
   "metadata": {},
   "outputs": [],
   "source": [
    "df_cuisine_binary_vectors = df_cuisine_vectors.copy()\n",
    "\n",
    "df_cuisine_binary_vectors = df_cuisine_binary_vectors>0\n",
    "\n",
    "for column in df_cuisine_binary_vectors.columns:\n",
    "    df_cuisine_binary_vectors[column] = df_cuisine_binary_vectors[column].astype('int')"
   ]
  },
  {
   "cell_type": "code",
   "execution_count": 124,
   "metadata": {},
   "outputs": [
    {
     "data": {
      "image/png": "[encoded data removed]",
      "text/plain": [
       "<Figure size 720x504 with 1 Axes>"
      ]
     },
     "metadata": {
      "needs_background": "light"
     },
     "output_type": "display_data"
    }
   ],
   "source": [
    "from scipy.cluster.hierarchy import dendrogram, linkage\n",
    "from matplotlib import pyplot as plt\n",
    "\n",
    "X = df_cuisine_binary_vectors\n",
    "\n",
    "# generate the linkage matrix\n",
    "# method = single (min), complete (max), average, centroid, median, ward\n",
    "# metric: ‘braycurtis’, ‘canberra’, ‘chebyshev’, ‘cityblock’, ‘correlation’, \n",
    "#         ‘cosine’, ‘dice’, ‘euclidean’, ‘hamming’, ‘jaccard’, ‘jensenshannon’, \n",
    "#         ‘kulsinski’, ‘mahalanobis’, ‘matching’, ‘minkowski’, ‘rogerstanimoto’, \n",
    "#         ‘russellrao’, ‘seuclidean’, ‘sokalmichener’, ‘sokalsneath’, ‘sqeuclidean’, ‘yule’\n",
    "linked = linkage(X, method='complete', metric='hamming')\n",
    "\n",
    "labelList = range(len(X))\n",
    "\n",
    "plt.figure(figsize=(10, 7))\n",
    "dendrogram(linked,\n",
    "            orientation='top',\n",
    "            labels=city_list,\n",
    "            distance_sort='descending',\n",
    "            show_leaf_counts=True)\n",
    "plt.show()"
   ]
  },
  {
   "cell_type": "code",
   "execution_count": 58,
   "metadata": {},
   "outputs": [],
   "source": [
    "from sklearn.cluster import AgglomerativeClustering \n",
    "\n",
    "num_clusters = 2\n",
    "hc = AgglomerativeClustering(n_clusters = num_clusters, affinity = 'hamming', linkage ='complete')\n",
    "#num_clusters=3\n",
    "#hc = AgglomerativeClustering(n_clusters = num_clusters, affinity = 'euclidean', linkage ='ward')\n",
    "hc.fit(X)\n",
    "labels = hc.labels_"
   ]
  },
  {
   "cell_type": "code",
   "execution_count": 59,
   "metadata": {},
   "outputs": [
    {
     "data": {
      "text/plain": [
       "array([1, 0, 0, 0, 0, 0, 1, 1, 1, 0, 0, 1, 1, 1, 1, 1, 1, 1, 1, 0, 0, 0])"
      ]
     },
     "execution_count": 59,
     "metadata": {},
     "output_type": "execute_result"
    }
   ],
   "source": [
    "labels"
   ]
  },
  {
   "cell_type": "code",
   "execution_count": 60,
   "metadata": {},
   "outputs": [
    {
     "name": "stdout",
     "output_type": "stream",
     "text": [
      "['Zurich', 'Warsaw', 'Vienna', 'Riga', 'Prague', 'Barcelona', 'Milan', 'Amsterdam', 'Bucharest', 'London']\n",
      "['Dublin', 'Podgorica', 'Athens', 'Porto', 'Copenhagen', 'Reykjavik', 'Lyon', 'Munich', 'Luxembourg', 'Oslo', 'Vaduz', 'Sofia']\n"
     ]
    }
   ],
   "source": [
    "for j in range(num_clusters):\n",
    "    \n",
    "    bool_list = (labels==j)\n",
    "\n",
    "    cities = []\n",
    "    for i in range(len(labels)):\n",
    "        if bool_list[i] == True:\n",
    "            cities.append(city_list[i])\n",
    "        \n",
    "    print(cities)"
   ]
  },
  {
   "cell_type": "code",
   "execution_count": null,
   "metadata": {},
   "outputs": [],
   "source": []
  },
  {
   "cell_type": "markdown",
   "metadata": {},
   "source": [
    "## Method of Moments"
   ]
  },
  {
   "cell_type": "code",
   "execution_count": 12,
   "metadata": {},
   "outputs": [
    {
     "data": {
      "image/png": "[encoded data removed]",
      "text/plain": [
       "<Figure size 720x504 with 1 Axes>"
      ]
     },
     "metadata": {
      "needs_background": "light"
     },
     "output_type": "display_data"
    }
   ],
   "source": [
    "from scipy.cluster.hierarchy import dendrogram, linkage\n",
    "from matplotlib import pyplot as plt\n",
    "\n",
    "q = 1\n",
    "\n",
    "X = df_cuisine_vectors\n",
    "\n",
    "# Normaize features\n",
    "X = normalize(X)\n",
    "\n",
    "X = X**q\n",
    "\n",
    "X = normalize(X)\n",
    "\n",
    "# generate the linkage matrix\n",
    "# method = single (min), complete (max), average, centroid, median, ward\n",
    "# metric: ‘braycurtis’, ‘canberra’, ‘chebyshev’, ‘cityblock’, ‘correlation’, \n",
    "#         ‘cosine’, ‘dice’, ‘euclidean’, ‘hamming’, ‘jaccard’, ‘jensenshannon’, \n",
    "#         ‘kulsinski’, ‘mahalanobis’, ‘matching’, ‘minkowski’, ‘rogerstanimoto’, \n",
    "#         ‘russellrao’, ‘seuclidean’, ‘sokalmichener’, ‘sokalsneath’, ‘sqeuclidean’, ‘yule’\n",
    "linked = linkage(X, method='complete', metric='cosine')\n",
    "\n",
    "labelList = range(len(X))\n",
    "\n",
    "plt.figure(figsize=(10, 7))\n",
    "dendrogram(linked,\n",
    "            orientation='top',\n",
    "            labels=city_list,\n",
    "            distance_sort='descending',\n",
    "            show_leaf_counts=True)\n",
    "plt.show()"
   ]
  },
  {
   "cell_type": "code",
   "execution_count": 31,
   "metadata": {},
   "outputs": [
    {
     "data": {
      "image/png": "[encoded data removed]",
      "text/plain": [
       "<Figure size 720x720 with 1 Axes>"
      ]
     },
     "metadata": {
      "needs_background": "light"
     },
     "output_type": "display_data"
    }
   ],
   "source": [
    "from scipy.cluster.hierarchy import dendrogram, linkage\n",
    "from matplotlib import pyplot as plt\n",
    "\n",
    "q = 0.5\n",
    "\n",
    "X = df_cuisine_vectors\n",
    "\n",
    "# Normaize features\n",
    "X = normalize(X)\n",
    "\n",
    "X = X**q\n",
    "\n",
    "X = normalize(X)\n",
    "\n",
    "# generate the linkage matrix\n",
    "# method = single (min), complete (max), average, centroid, median, ward\n",
    "# metric: ‘braycurtis’, ‘canberra’, ‘chebyshev’, ‘cityblock’, ‘correlation’, \n",
    "#         ‘cosine’, ‘dice’, ‘euclidean’, ‘hamming’, ‘jaccard’, ‘jensenshannon’, \n",
    "#         ‘kulsinski’, ‘mahalanobis’, ‘matching’, ‘minkowski’, ‘rogerstanimoto’, \n",
    "#         ‘russellrao’, ‘seuclidean’, ‘sokalmichener’, ‘sokalsneath’, ‘sqeuclidean’, ‘yule’\n",
    "linked = linkage(X, method='complete', metric='cosine')\n",
    "\n",
    "fig, ax = plt.subplots(1, 1, figsize=(10,10))\n",
    "\n",
    "ax.set_title('Hierarchical Clustering of Cuisines', fontsize=20)\n",
    "#ax.set_title('Hierarchical Clustering Dendrogram')\n",
    "#ax.set_xlabel('distance')\n",
    "#ax.set_ylabel('name')\n",
    "dendrogram(linked,\n",
    "            orientation='right',\n",
    "            labels=city_list,\n",
    "            distance_sort='descending',\n",
    "            show_leaf_counts=True)\n",
    "\n",
    "#ax.yaxis.set_label_position('right')\n",
    "#ax.yaxis.tick_right()\n",
    "plt.savefig('Dendogram.png', format='png', bbox_inches='tight');"
   ]
  },
  {
   "cell_type": "code",
   "execution_count": 34,
   "metadata": {},
   "outputs": [
    {
     "data": {
      "image/png": "[encoded data removed]",
      "text/plain": [
       "<Figure size 720x720 with 1 Axes>"
      ]
     },
     "metadata": {
      "needs_background": "light"
     },
     "output_type": "display_data"
    }
   ],
   "source": [
    "from scipy.cluster.hierarchy import dendrogram, linkage\n",
    "from matplotlib import pyplot as plt\n",
    "\n",
    "q = 0.5\n",
    "\n",
    "X = df_cuisine_vectors\n",
    "\n",
    "# Normaize features\n",
    "X = normalize(X)\n",
    "\n",
    "X = X**q\n",
    "\n",
    "X = normalize(X)\n",
    "\n",
    "# generate the linkage matrix\n",
    "# method = single (min), complete (max), average, centroid, median, ward\n",
    "# metric: ‘braycurtis’, ‘canberra’, ‘chebyshev’, ‘cityblock’, ‘correlation’, \n",
    "#         ‘cosine’, ‘dice’, ‘euclidean’, ‘hamming’, ‘jaccard’, ‘jensenshannon’, \n",
    "#         ‘kulsinski’, ‘mahalanobis’, ‘matching’, ‘minkowski’, ‘rogerstanimoto’, \n",
    "#         ‘russellrao’, ‘seuclidean’, ‘sokalmichener’, ‘sokalsneath’, ‘sqeuclidean’, ‘yule’\n",
    "linked = linkage(X, method='complete', metric='cosine')\n",
    "\n",
    "fig, ax = plt.subplots(1, 1, figsize=(10,10))\n",
    "\n",
    "ax.set_title('Hierarchical Clustering of Cuisines', fontsize=20)\n",
    "#ax.set_title('Hierarchical Clustering Dendrogram')\n",
    "#ax.set_xlabel('distance')\n",
    "#ax.set_ylabel('name')\n",
    "dendrogram(linked,\n",
    "            orientation='top',\n",
    "            labels=city_list,\n",
    "            distance_sort='descending',\n",
    "            show_leaf_counts=True)\n",
    "plt.show()"
   ]
  },
  {
   "cell_type": "code",
   "execution_count": 138,
   "metadata": {},
   "outputs": [],
   "source": [
    "from sklearn.cluster import AgglomerativeClustering \n",
    "\n",
    "num_clusters = 10\n",
    "hc = AgglomerativeClustering(n_clusters = num_clusters, affinity = 'cosine', linkage ='complete')\n",
    "hc.fit(X)\n",
    "labels = hc.labels_"
   ]
  },
  {
   "cell_type": "code",
   "execution_count": 139,
   "metadata": {},
   "outputs": [],
   "source": [
    "city_coords = [(53.3498,-6.2603),(47.3769,8.5417),(52.2297,21.0122),(48.2082,16.3738),\n",
    "               (56.9496,24.1052),(50.0755,14.4378),(42.4304,19.2594),(37.9838,23.7275),\n",
    "               (41.1579,-8.6291),(41.3851,2.1734),(45.4642,9.1900),(55.6761,12.5683),\n",
    "               (64.1466,-21.9426),(45.7640,4.8357),(48.1351,11.5820),(49.6116,6.1319),\n",
    "               (59.9139,10.7522),(47.1410,9.5209),(42.6977,23.3219),(52.3676,4.9041),\n",
    "               (44.4268,26.1025),(51.5074,-0.1278)]\n",
    "\n",
    "colors = ['red','blue','green','orange','#cc31ad','#3186cc','#edf728','#8cf536','darkred','#716987']\n",
    "#colors = ['red','blue','green','orange','#cc31ad']\n"
   ]
  },
  {
   "cell_type": "code",
   "execution_count": 140,
   "metadata": {},
   "outputs": [
    {
     "data": {
      "text/html": [
       "<div style=\"width:100%;\"><div style=\"position:relative;width:100%;height:0;padding-bottom:60%;\"><iframe src=\"data:text/html;charset=utf-8;base64,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\" style=\"position:absolute;width:100%;height:100%;left:0;top:0;border:none !important;\" allowfullscreen webkitallowfullscreen mozallowfullscreen></iframe></div></div>"
      ],
      "text/plain": [
       "<folium.folium.Map at 0x7fc2113d3e90>"
      ]
     },
     "execution_count": 140,
     "metadata": {},
     "output_type": "execute_result"
    }
   ],
   "source": [
    "# Coordinates of Central Europe\n",
    "#latitude = 49.503551\n",
    "#longitude = 9.5407\n",
    "latitude = 49.503551\n",
    "longitude = 9.5407\n",
    "\n",
    "# create map of Toronto using latitude and longitude values\n",
    "map_europe = folium.Map(location=[latitude, longitude], zoom_start=4)\n",
    "\n",
    "# add markers to map\n",
    "for i in range(len(city_list)):\n",
    "    lat = city_coords[i][0]\n",
    "    lng = city_coords[i][1]\n",
    "    label = '{}'.format(city_list[i])\n",
    "    label = folium.Popup(label, parse_html=True)\n",
    "    folium.CircleMarker(\n",
    "        [lat, lng],\n",
    "        radius=8,\n",
    "        popup=label,\n",
    "        color=colors[labels[i]],\n",
    "        fill=True,\n",
    "        fill_color=colors[labels[i]],\n",
    "        fill_opacity=1,\n",
    "        parse_html=False).add_to(map_europe)  \n",
    "\n",
    "map_europe.fit_bounds([[60.96, 0], [37, 29]])\n",
    "    \n",
    "map_europe"
   ]
  },
  {
   "cell_type": "code",
   "execution_count": 84,
   "metadata": {},
   "outputs": [
    {
     "name": "stdout",
     "output_type": "stream",
     "text": [
      "['Podgorica', 'Sofia', 'Bucharest']\n",
      "['Warsaw', 'Vienna', 'Prague', 'Munich']\n",
      "['Copenhagen', 'Reykjavik', 'Oslo']\n",
      "['Dublin', 'Milan', 'Amsterdam', 'London']\n",
      "['Lyon', 'Luxembourg']\n",
      "['Porto']\n",
      "['Barcelona']\n",
      "['Athens']\n",
      "['Riga']\n",
      "['Zurich', 'Vaduz']\n"
     ]
    }
   ],
   "source": [
    "for j in range(num_clusters):\n",
    "    \n",
    "    bool_list = (labels==j)\n",
    "\n",
    "    cities = []\n",
    "    for i in range(len(labels)):\n",
    "        if bool_list[i] == True:\n",
    "            cities.append(city_list[i])\n",
    "        \n",
    "    print(cities)"
   ]
  },
  {
   "cell_type": "markdown",
   "metadata": {},
   "source": []
  },
  {
   "cell_type": "markdown",
   "metadata": {},
   "source": [
    "# Demographics"
   ]
  },
  {
   "cell_type": "code",
   "execution_count": 146,
   "metadata": {},
   "outputs": [],
   "source": [
    "country_list = ['Ireland','Switzerland','Poland','Austria','Latvia','Czechia','Montenegro',\n",
    "                'Greece','Portugal','Spain','Italy','Denmark','Iceland','France','Germany',\n",
    "                'Luxembourg','Norway','Liechtenstein','Bulgaria','Netherlands','Romania','UK']\n",
    "\n",
    "\n",
    "def get_citizenship_filename(country):\n",
    "    \n",
    "    if country == 'France':\n",
    "        filename = 'France_2017.csv'\n",
    "    elif country == 'Montenegro':\n",
    "        filename = 'Montenegro_2011.csv'\n",
    "    else:\n",
    "        filename = '{}_2019.csv'.format(country)\n",
    "    \n",
    "    return('./Data/Citizenship/{}'.format(filename))\n",
    "    \n",
    "    \n",
    "' Read and process population data ' \n",
    "df_demo = pd.DataFrame()\n",
    "for country in country_list:\n",
    "    \n",
    "    file_location = get_citizenship_filename(country)\n",
    "    df_country = pd.read_csv(file_location)\n",
    "    \n",
    "    ' Transform dataframe '\n",
    "    df_country = df_country[ df_country['SEX']=='Total' ]\n",
    "    df_country = df_country[['GEO','CITIZEN','Value']]\n",
    "    df_country.rename(columns={\"GEO\": \"country\", \"CITIZEN\": \"citizenship\",\"Value\":\"count\"}, inplace=True)\n",
    "    df_country.drop(df_country.index[df_country['citizenship'] == 'Total'], inplace = True)\n",
    "    df_country['count'] = df_country['count'].str.replace(\",\", \"\").replace(\":\", \"0\")\n",
    "    df_country['count'] = df_country['count'].astype('int32')\n",
    "    country_name = df_country['country'].unique()[0].split()[0].lower()\n",
    "    df_country.drop('country', axis=1, inplace=True)\n",
    "    df_country.set_index('citizenship', inplace=True)\n",
    "    df_country.columns = [country_name]\n",
    "    \n",
    "    ' Join to master dataframe '\n",
    "    df_demo = df_country.join(df_demo)\n",
    "    \n",
    "    \n",
    "' Rename United Kingdom -> UK '\n",
    "df_demo.rename(columns={'united':'uk'},inplace=True)\n"
   ]
  },
  {
   "cell_type": "code",
   "execution_count": 147,
   "metadata": {},
   "outputs": [
    {
     "data": {
      "text/html": [
       "<div>\n",
       "<style scoped>\n",
       "    .dataframe tbody tr th:only-of-type {\n",
       "        vertical-align: middle;\n",
       "    }\n",
       "\n",
       "    .dataframe tbody tr th {\n",
       "        vertical-align: top;\n",
       "    }\n",
       "\n",
       "    .dataframe thead th {\n",
       "        text-align: right;\n",
       "    }\n",
       "</style>\n",
       "<table border=\"1\" class=\"dataframe\">\n",
       "  <thead>\n",
       "    <tr style=\"text-align: right;\">\n",
       "      <th></th>\n",
       "      <th>uk</th>\n",
       "      <th>romania</th>\n",
       "      <th>netherlands</th>\n",
       "      <th>bulgaria</th>\n",
       "      <th>liechtenstein</th>\n",
       "      <th>norway</th>\n",
       "      <th>luxembourg</th>\n",
       "      <th>germany</th>\n",
       "      <th>france</th>\n",
       "      <th>iceland</th>\n",
       "      <th>...</th>\n",
       "      <th>spain</th>\n",
       "      <th>portugal</th>\n",
       "      <th>greece</th>\n",
       "      <th>montenegro</th>\n",
       "      <th>czechia</th>\n",
       "      <th>latvia</th>\n",
       "      <th>austria</th>\n",
       "      <th>poland</th>\n",
       "      <th>switzerland</th>\n",
       "      <th>ireland</th>\n",
       "    </tr>\n",
       "    <tr>\n",
       "      <th>citizenship</th>\n",
       "      <th></th>\n",
       "      <th></th>\n",
       "      <th></th>\n",
       "      <th></th>\n",
       "      <th></th>\n",
       "      <th></th>\n",
       "      <th></th>\n",
       "      <th></th>\n",
       "      <th></th>\n",
       "      <th></th>\n",
       "      <th></th>\n",
       "      <th></th>\n",
       "      <th></th>\n",
       "      <th></th>\n",
       "      <th></th>\n",
       "      <th></th>\n",
       "      <th></th>\n",
       "      <th></th>\n",
       "      <th></th>\n",
       "      <th></th>\n",
       "      <th></th>\n",
       "    </tr>\n",
       "  </thead>\n",
       "  <tbody>\n",
       "    <tr>\n",
       "      <th>Belgium</th>\n",
       "      <td>23135</td>\n",
       "      <td>985</td>\n",
       "      <td>34447</td>\n",
       "      <td>209</td>\n",
       "      <td>25</td>\n",
       "      <td>1284</td>\n",
       "      <td>19953</td>\n",
       "      <td>25904</td>\n",
       "      <td>102066</td>\n",
       "      <td>104</td>\n",
       "      <td>...</td>\n",
       "      <td>36980</td>\n",
       "      <td>4147</td>\n",
       "      <td>1279</td>\n",
       "      <td>1</td>\n",
       "      <td>809</td>\n",
       "      <td>37</td>\n",
       "      <td>2575</td>\n",
       "      <td>660</td>\n",
       "      <td>13474</td>\n",
       "      <td>1674</td>\n",
       "    </tr>\n",
       "    <tr>\n",
       "      <th>Bulgaria</th>\n",
       "      <td>102345</td>\n",
       "      <td>2814</td>\n",
       "      <td>31208</td>\n",
       "      <td>6896086</td>\n",
       "      <td>11</td>\n",
       "      <td>7349</td>\n",
       "      <td>1726</td>\n",
       "      <td>319271</td>\n",
       "      <td>23188</td>\n",
       "      <td>414</td>\n",
       "      <td>...</td>\n",
       "      <td>123335</td>\n",
       "      <td>6931</td>\n",
       "      <td>81174</td>\n",
       "      <td>32</td>\n",
       "      <td>15632</td>\n",
       "      <td>115</td>\n",
       "      <td>29920</td>\n",
       "      <td>2327</td>\n",
       "      <td>10054</td>\n",
       "      <td>2592</td>\n",
       "    </tr>\n",
       "    <tr>\n",
       "      <th>Czechia</th>\n",
       "      <td>46573</td>\n",
       "      <td>543</td>\n",
       "      <td>4144</td>\n",
       "      <td>416</td>\n",
       "      <td>22</td>\n",
       "      <td>1898</td>\n",
       "      <td>1130</td>\n",
       "      <td>56259</td>\n",
       "      <td>4628</td>\n",
       "      <td>692</td>\n",
       "      <td>...</td>\n",
       "      <td>0</td>\n",
       "      <td>463</td>\n",
       "      <td>913</td>\n",
       "      <td>23</td>\n",
       "      <td>10092342</td>\n",
       "      <td>34</td>\n",
       "      <td>13590</td>\n",
       "      <td>1123</td>\n",
       "      <td>8407</td>\n",
       "      <td>5302</td>\n",
       "    </tr>\n",
       "  </tbody>\n",
       "</table>\n",
       "<p>3 rows × 22 columns</p>\n",
       "</div>"
      ],
      "text/plain": [
       "                 uk  romania  netherlands  bulgaria  liechtenstein  norway  \\\n",
       "citizenship                                                                  \n",
       "Belgium       23135      985        34447       209             25    1284   \n",
       "Bulgaria     102345     2814        31208   6896086             11    7349   \n",
       "Czechia       46573      543         4144       416             22    1898   \n",
       "\n",
       "             luxembourg  germany  france  iceland  ...   spain  portugal  \\\n",
       "citizenship                                        ...                     \n",
       "Belgium           19953    25904  102066      104  ...   36980      4147   \n",
       "Bulgaria           1726   319271   23188      414  ...  123335      6931   \n",
       "Czechia            1130    56259    4628      692  ...       0       463   \n",
       "\n",
       "             greece  montenegro   czechia  latvia  austria  poland  \\\n",
       "citizenship                                                          \n",
       "Belgium        1279           1       809      37     2575     660   \n",
       "Bulgaria      81174          32     15632     115    29920    2327   \n",
       "Czechia         913          23  10092342      34    13590    1123   \n",
       "\n",
       "             switzerland  ireland  \n",
       "citizenship                        \n",
       "Belgium            13474     1674  \n",
       "Bulgaria           10054     2592  \n",
       "Czechia             8407     5302  \n",
       "\n",
       "[3 rows x 22 columns]"
      ]
     },
     "execution_count": 147,
     "metadata": {},
     "output_type": "execute_result"
    }
   ],
   "source": [
    "df_demo.head(3)"
   ]
  },
  {
   "cell_type": "code",
   "execution_count": 144,
   "metadata": {},
   "outputs": [],
   "source": [
    "def get_entropy(p):\n",
    "    \"\"\" Takes in pandas series and returns the Shannon entropy \"\"\"\n",
    "    \n",
    "    ' Calculate Shannon entropy '\n",
    "    entropy = ( -1.0*p*np.log(p) ).sum()\n",
    "    \n",
    "    return entropy\n",
    "\n",
    "\n",
    "def get_renyi_entropy(p,q):\n",
    "    \n",
    "    ' Calculate entropy '\n",
    "    if q == 1:\n",
    "        entropy = ( -1.0*p*np.log(p) ).sum()\n",
    "    else:\n",
    "        entropy = -1.0*( 1.0/float(q-1) )*np.log( (p**q).sum() )\n",
    "    \n",
    "    return entropy\n",
    "\n",
    "\n",
    "def get_frequency(values, exclude_zeros=True):\n",
    "    \"\"\" Takes in a pandas Series and returns normalised values \"\"\"\n",
    "    \n",
    "    total = float( values.sum() )\n",
    "    \n",
    "    freq = values/float(total)\n",
    "    \n",
    "    if exclude_zeros == True:\n",
    "        freq = freq[ freq>0 ]\n",
    "    \n",
    "    return freq"
   ]
  },
  {
   "cell_type": "code",
   "execution_count": 148,
   "metadata": {},
   "outputs": [],
   "source": [
    "pop_entropy = []\n",
    "\n",
    "for country in country_list:\n",
    "    \n",
    "    sCounts = df_demo[ country.lower() ]\n",
    "    \n",
    "    sFrequency = get_frequency(sCounts)\n",
    "    \n",
    "    pop_entropy.append( get_entropy(sFrequency) )\n"
   ]
  },
  {
   "cell_type": "code",
   "execution_count": 172,
   "metadata": {},
   "outputs": [
    {
     "data": {
      "text/html": [
       "<div>\n",
       "<style scoped>\n",
       "    .dataframe tbody tr th:only-of-type {\n",
       "        vertical-align: middle;\n",
       "    }\n",
       "\n",
       "    .dataframe tbody tr th {\n",
       "        vertical-align: top;\n",
       "    }\n",
       "\n",
       "    .dataframe thead th {\n",
       "        text-align: right;\n",
       "    }\n",
       "</style>\n",
       "<table border=\"1\" class=\"dataframe\">\n",
       "  <thead>\n",
       "    <tr style=\"text-align: right;\">\n",
       "      <th></th>\n",
       "      <th>country</th>\n",
       "      <th>cluster_id</th>\n",
       "      <th>diversity</th>\n",
       "    </tr>\n",
       "  </thead>\n",
       "  <tbody>\n",
       "    <tr>\n",
       "      <th>0</th>\n",
       "      <td>Ireland</td>\n",
       "      <td>4</td>\n",
       "      <td>0.769847</td>\n",
       "    </tr>\n",
       "    <tr>\n",
       "      <th>1</th>\n",
       "      <td>Switzerland</td>\n",
       "      <td>10</td>\n",
       "      <td>1.348761</td>\n",
       "    </tr>\n",
       "    <tr>\n",
       "      <th>2</th>\n",
       "      <td>Poland</td>\n",
       "      <td>2</td>\n",
       "      <td>0.009112</td>\n",
       "    </tr>\n",
       "    <tr>\n",
       "      <th>3</th>\n",
       "      <td>Austria</td>\n",
       "      <td>2</td>\n",
       "      <td>0.979421</td>\n",
       "    </tr>\n",
       "    <tr>\n",
       "      <th>4</th>\n",
       "      <td>Latvia</td>\n",
       "      <td>9</td>\n",
       "      <td>0.207861</td>\n",
       "    </tr>\n",
       "  </tbody>\n",
       "</table>\n",
       "</div>"
      ],
      "text/plain": [
       "       country  cluster_id  diversity\n",
       "0      Ireland           4   0.769847\n",
       "1  Switzerland          10   1.348761\n",
       "2       Poland           2   0.009112\n",
       "3      Austria           2   0.979421\n",
       "4       Latvia           9   0.207861"
      ]
     },
     "execution_count": 172,
     "metadata": {},
     "output_type": "execute_result"
    }
   ],
   "source": [
    "labels1 = labels + 1\n",
    "df = pd.DataFrame({'country':country_list,'cluster_id':labels1,'diversity':pop_entropy})\n",
    "df = df[['country','cluster_id','diversity']]\n",
    "df.head()"
   ]
  },
  {
   "cell_type": "code",
   "execution_count": 175,
   "metadata": {},
   "outputs": [
    {
     "data": {
      "image/png": "[encoded data removed]",
      "text/plain": [
       "<Figure size 1080x576 with 1 Axes>"
      ]
     },
     "metadata": {},
     "output_type": "display_data"
    }
   ],
   "source": [
    "import seaborn as sns\n",
    "#sns.relplot(x=\"cluster_id\", y=\"diversity\", hue=\"cluster_id\", data=df);\n",
    "plt.figure(figsize=(15,8))\n",
    "sns.set(font_scale=2)\n",
    "ax = sns.boxplot( x=df[\"cluster_id\"], y=df[\"diversity\"] );\n",
    "ax.set_title('Population Diversity per Cluster');\n",
    "ax.set_xlabel('Cluster ID');\n",
    "ax.set_ylabel('$E_n$');\n",
    "#ax.annotate(\"hello\",(1,1))\n",
    "#legend = [\"UV Weak\", \"UV Upturn\"]\n",
    "#plt.legend(legend)\n",
    "ax.get_figure().savefig('BoxPlot.png')"
   ]
  },
  {
   "cell_type": "code",
   "execution_count": 186,
   "metadata": {},
   "outputs": [
    {
     "data": {
      "text/html": [
       "<div>\n",
       "<style scoped>\n",
       "    .dataframe tbody tr th:only-of-type {\n",
       "        vertical-align: middle;\n",
       "    }\n",
       "\n",
       "    .dataframe tbody tr th {\n",
       "        vertical-align: top;\n",
       "    }\n",
       "\n",
       "    .dataframe thead th {\n",
       "        text-align: right;\n",
       "    }\n",
       "</style>\n",
       "<table border=\"1\" class=\"dataframe\">\n",
       "  <thead>\n",
       "    <tr style=\"text-align: right;\">\n",
       "      <th></th>\n",
       "      <th>country</th>\n",
       "      <th>cluster_id</th>\n",
       "      <th>diversity</th>\n",
       "    </tr>\n",
       "  </thead>\n",
       "  <tbody>\n",
       "    <tr>\n",
       "      <th>1</th>\n",
       "      <td>Switzerland</td>\n",
       "      <td>10</td>\n",
       "      <td>1.348761</td>\n",
       "    </tr>\n",
       "    <tr>\n",
       "      <th>17</th>\n",
       "      <td>Liechtenstein</td>\n",
       "      <td>10</td>\n",
       "      <td>1.513336</td>\n",
       "    </tr>\n",
       "  </tbody>\n",
       "</table>\n",
       "</div>"
      ],
      "text/plain": [
       "          country  cluster_id  diversity\n",
       "1     Switzerland          10   1.348761\n",
       "17  Liechtenstein          10   1.513336"
      ]
     },
     "execution_count": 186,
     "metadata": {},
     "output_type": "execute_result"
    }
   ],
   "source": [
    "df[df['cluster_id']==10]"
   ]
  },
  {
   "cell_type": "code",
   "execution_count": null,
   "metadata": {},
   "outputs": [],
   "source": []
  },
  {
   "cell_type": "code",
   "execution_count": null,
   "metadata": {},
   "outputs": [],
   "source": []
  },
  {
   "cell_type": "code",
   "execution_count": null,
   "metadata": {},
   "outputs": [],
   "source": []
  },
  {
   "cell_type": "code",
   "execution_count": null,
   "metadata": {},
   "outputs": [],
   "source": []
  },
  {
   "cell_type": "code",
   "execution_count": null,
   "metadata": {},
   "outputs": [],
   "source": []
  },
  {
   "cell_type": "code",
   "execution_count": null,
   "metadata": {},
   "outputs": [],
   "source": []
  },
  {
   "cell_type": "code",
   "execution_count": null,
   "metadata": {},
   "outputs": [],
   "source": []
  },
  {
   "cell_type": "code",
   "execution_count": null,
   "metadata": {},
   "outputs": [],
   "source": []
  },
  {
   "cell_type": "code",
   "execution_count": null,
   "metadata": {},
   "outputs": [],
   "source": []
  },
  {
   "cell_type": "code",
   "execution_count": null,
   "metadata": {},
   "outputs": [],
   "source": []
  },
  {
   "cell_type": "code",
   "execution_count": null,
   "metadata": {},
   "outputs": [],
   "source": []
  },
  {
   "cell_type": "code",
   "execution_count": null,
   "metadata": {},
   "outputs": [],
   "source": []
  },
  {
   "cell_type": "code",
   "execution_count": null,
   "metadata": {},
   "outputs": [],
   "source": []
  },
  {
   "cell_type": "code",
   "execution_count": 190,
   "metadata": {},
   "outputs": [
    {
     "data": {
      "image/png": "[encoded data removed]",
      "text/plain": [
       "<Figure size 720x504 with 1 Axes>"
      ]
     },
     "metadata": {
      "needs_background": "light"
     },
     "output_type": "display_data"
    }
   ],
   "source": [
    "from scipy.cluster.hierarchy import dendrogram, linkage\n",
    "from matplotlib import pyplot as plt\n",
    "\n",
    "q = 0.3\n",
    "\n",
    "X = df_demo\n",
    "\n",
    "# Normaize features\n",
    "X = normalize(X)\n",
    "\n",
    "X = X**q\n",
    "\n",
    "X = normalize(X)\n",
    "\n",
    "# generate the linkage matrix\n",
    "# method = single (min), complete (max), average, centroid, median, ward\n",
    "# metric: ‘braycurtis’, ‘canberra’, ‘chebyshev’, ‘cityblock’, ‘correlation’, \n",
    "#         ‘cosine’, ‘dice’, ‘euclidean’, ‘hamming’, ‘jaccard’, ‘jensenshannon’, \n",
    "#         ‘kulsinski’, ‘mahalanobis’, ‘matching’, ‘minkowski’, ‘rogerstanimoto’, \n",
    "#         ‘russellrao’, ‘seuclidean’, ‘sokalmichener’, ‘sokalsneath’, ‘sqeuclidean’, ‘yule’\n",
    "linked = linkage(X, method='complete', metric='cosine')\n",
    "\n",
    "labelList = range(len(X))\n",
    "\n",
    "plt.figure(figsize=(10, 7))\n",
    "dendrogram(linked,\n",
    "            orientation='top',\n",
    "            labels=country_list,\n",
    "            distance_sort='descending',\n",
    "            show_leaf_counts=True)\n",
    "plt.show()"
   ]
  },
  {
   "cell_type": "markdown",
   "metadata": {},
   "source": [
    "## CONCLUSION"
   ]
  },
  {
   "cell_type": "markdown",
   "metadata": {},
   "source": [
    "**Strong Similarity**\n",
    "\n",
    "France & Montenegro !?\n",
    "\n",
    "Greece, Latvia, Romania, Bulgaria\n",
    "\n",
    "\n",
    "**Medium Similarity**\n",
    "\n",
    "UK & Ireland\n",
    "\n",
    "Denmark & Switzerland\n",
    "\n",
    "** Outliers **\n",
    "\n",
    "Luxembourg - Very different demographics to rest of Europe - Last to be clustered\n"
   ]
  },
  {
   "cell_type": "code",
   "execution_count": null,
   "metadata": {},
   "outputs": [],
   "source": []
  }
 ],
 "metadata": {
  "kernelspec": {
   "display_name": "Python 2",
   "language": "python",
   "name": "python2"
  },
  "language_info": {
   "codemirror_mode": {
    "name": "ipython",
    "version": 2
   },
   "file_extension": ".py",
   "mimetype": "text/x-python",
   "name": "python",
   "nbconvert_exporter": "python",
   "pygments_lexer": "ipython2",
   "version": "2.7.16"
  }
 },
 "nbformat": 4,
 "nbformat_minor": 2
}
