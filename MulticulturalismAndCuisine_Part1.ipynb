{
    "cells": [
        {
            "cell_type": "markdown",
            "metadata": {},
            "source": "#  Multiculturalism and Diversity of Restaurant Cuisine"
        },
        {
            "cell_type": "markdown",
            "metadata": {},
            "source": "## Introduction and Background\n\nIn our modern globalised world, we have witnessed steadily increasing levels of migration [1]. This has led to many cities and countries becoming increasingly multicultural in nature over time. \n\nThe data provided by Foursquare contains particularly rich information on the variety of cusines available in a specific location [2]. That is, it provides the cuisine type served in a restaurant e.g. Mexican, Sushi, French, Italian, Cajun, etc. There are 230+ such restaurant categories [3].\n\nIn this project we investigate the following hypothesis:\n\n> The level of multiculturalism in a country is reflected by the diversity of cuisines in its major cities.\n\nThat is, the more multicultural a city, the wider the range and number of restaurant types one would expect to find in the city.\n\nIn order to calculate the level of multiculturalism in a country, we shall need to obtain national immigration statistics. That is, we will require a breakdown of immigrant numbers by nationality. We then compute an entropy value from these statitics [4]. \n\nEntropy is a concept originally defined in physics where it was used as a measure of disorder in a system. It can however also be used to quantify diversity [5]. So for example, if we have a population with very few immigrants, the entropy value will be much lower than for a country with a large number and wide range of nationalities. Going forward, we shall refer to this entropy value as the *diversity index*. Precise details on how the calculation of the diversity index is performed will be provided in the methodology section at a later date.\n\nQuantifying the diversity of cuisines in a city is done in a similar fashion. That is, using the Foursquare API, we obtain the number of restaurants for each particular cuisine type in a city e.g. Number of Chinese restaurants, number of Italian restaurants, etc. We can then compute the entropy from these statistics to quantify the diversity in cuisines.\n\nFor each city, we therefore calculate a diversity index value for the population, and a diversity index value for the restaurant cuisine types. If the hypothesis holds true, one would expect that there should be a positive correlation between the population diversity index and the cuisine diversity index. That is, we can perform some form of regression analysis.\n\nThe proposed hypothesis is primarily of academic interest. However, if the hypothesis were discovered to hold true, the diversity of cuisines in a city could then be used as a rough measure of the variety of inward migration into a country. Any such insight could be particularly useful to demographers in countries lacking accurate records and/or having poor census data, and could be used to inform national government policy. \n\nIn addition to investigating our primary hypothesis, if time allows, we might also compare cities by clustering them on their available cuisine types. An analysis of the resultant clusters might provide further insights.\n\n\n\n## Data Sources\n\nOur primary datasource will be the location data obtained from the Foursquare API [6]. One can input the latitude and longitude of a city location into this API and perform a search for venues serving food within a 500 metre radius. The returned search results include the latitude and longitude coordinates of the eatery and its category e.g. Italian Restaurant, Chinese Restaurant, Hotpot Restaurant, Japanese Curry Restaurant, etc. \n\nTo obtain the full list of restaurants in a city, we first create a grid of equally spaced location points (each separated by a distance of 1km) within the city boundaries and then perform our restaurant search query at each such point. We then combine the results of our multiple search queries together and remove any duplicate entries. As an example, we end up with results that look as follows:\n\n| Venue Name        | Latitude           | Longitude  | Category |\n| ------------- |:-------------:|:-----:|------:|\n| Hard Rock Cafe Dublin     | 53.345878 | -6.260866 | American Restaurant |\n| Musashi\t     | 53.351138 | -6.264117 | Sushi Restaurant |\n| Nando's     | 53.348829 | -6.267252 | Portugese Restaurant |\n\nUsing the returned restaurant categories for a city, we can count the number of restaurants in each cuisine type. \n\nWhile this provides us with information on the available cuisine types in a city, we also need information on the level of muticulturism in the city. To measure this accurately, we  require detailed statistics on the breakdown of immigrant numbers within a country. That is, we require the breakdown of nationalities that reside in a country. Such information can be obtained from the Eurostat website [7]. For example, using their data extraction tool, the following data on the top 7 nationalities living in Austria in 2018 was downloaded as a csv file:\n\n| Citizenship        | Number           | \n| ------------- |:-------------:|\n| Austria | 7,426,387 | \n| Germany\t     | 186,841 |\n| Serbia     | 120,174 | \n| Turkey\t     | 117,297 |\n| Romania     | 102,270|\n| Bosnia\t     | 95,189 |\n| Hungary     | 77,113|\n\nOne can subsequently use these retrieved statistics to construct a measure for the level of multiculturalism in Austria. As stated in the introduction, we do this by calculating the (entropy) diversity index. \n\n\n[1] https://www.un.org/en/development/desa/population/migration/data/estimates2/estimatesgraphs.asp?0g0\n\n[2] https://foursquare.com/\n\n\n[3] https://developer.foursquare.com/docs/build-with-foursquare/categories/\n\n[4] https://en.wikipedia.org/wiki/Entropy\n\n[5] https://en.wikipedia.org/wiki/Diversity_index\n\n[6] https://developer.foursquare.com/developer/\n\n[7] https://appsso.eurostat.ec.europa.eu/nui/show.do?dataset=migr_pop1ctz&lang=en"
        },
        {
            "cell_type": "code",
            "execution_count": null,
            "metadata": {},
            "outputs": [],
            "source": ""
        }
    ],
    "metadata": {
        "kernelspec": {
            "display_name": "Python 2",
            "language": "python",
            "name": "python2"
        },
        "language_info": {
            "codemirror_mode": {
                "name": "ipython",
                "version": 2
            },
            "file_extension": ".py",
            "mimetype": "text/x-python",
            "name": "python",
            "nbconvert_exporter": "python",
            "pygments_lexer": "ipython2",
            "version": "2.7.16"
        }
    },
    "nbformat": 4,
    "nbformat_minor": 2
}